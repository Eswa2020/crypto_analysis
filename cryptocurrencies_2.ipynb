{
  "nbformat": 4,
  "nbformat_minor": 0,
  "metadata": {
    "colab": {
      "name": "cryptocurrencies_2.ipynb",
      "provenance": [],
      "toc_visible": true,
      "authorship_tag": "ABX9TyN9/r2yYKF0rh2qm8MGVZzw",
      "include_colab_link": true
    },
    "kernelspec": {
      "name": "python3",
      "display_name": "Python 3"
    },
    "language_info": {
      "name": "python"
    }
  },
  "cells": [
    {
      "cell_type": "markdown",
      "metadata": {
        "id": "view-in-github",
        "colab_type": "text"
      },
      "source": [
        "<a href=\"https://colab.research.google.com/github/Eswa2020/crypto_analysis/blob/main/cryptocurrencies_2.ipynb\" target=\"_parent\"><img src=\"https://colab.research.google.com/assets/colab-badge.svg\" alt=\"Open In Colab\"/></a>"
      ]
    },
    {
      "cell_type": "markdown",
      "source": [
        "## 1. Business Understanding"
      ],
      "metadata": {
        "id": "HdqSZbVhdB0K"
      }
    },
    {
      "cell_type": "markdown",
      "source": [
        "##2.Data Understanding"
      ],
      "metadata": {
        "id": "kx4SmKp-dPxd"
      }
    },
    {
      "cell_type": "markdown",
      "source": [
        "##3.Research Questions"
      ],
      "metadata": {
        "id": "5aBOoFU3faAp"
      }
    },
    {
      "cell_type": "markdown",
      "source": [
        "\n",
        "\n",
        "*   What's the hottest coin Right now?\n",
        "*   What was the hottest coin 5 YEARS AGO?\n",
        "*   What is the highest price coin Right now?\n",
        "*   What is the lowest price coin Right now?\n",
        "*   What is the Highest market value from 2020?\n",
        "*   What is the Lowest market value from 2020?\n",
        "*   Which coin has the Highest price change Right now?\n",
        "*   Which coin has the lowest price change since 2020?\n",
        "*   whats the volume history of the highest coin Right now?\n",
        "*   Whats the volume history of the lowest coin Right now?\n",
        "*   Whats the volume pattern of the first 10 high market value coins?\n",
        "*   Whats the pattern volume of the last 10 worst markets value coins?\n",
        "\n",
        "---\n",
        "\n",
        "\n",
        "\n",
        "\n"
      ],
      "metadata": {
        "id": "lOPaz3hzfeW9"
      }
    },
    {
      "cell_type": "markdown",
      "source": [
        "##4.Import SQL libraries and load datasets"
      ],
      "metadata": {
        "id": "M2oYnnDRn3oQ"
      }
    },
    {
      "cell_type": "code",
      "execution_count": 1,
      "metadata": {
        "colab": {
          "base_uri": "https://localhost:8080/",
          "height": 35
        },
        "id": "u1aaAExoc5Qb",
        "outputId": "ab07d897-67f3-4878-aa3b-96e2615542dc"
      },
      "outputs": [
        {
          "output_type": "execute_result",
          "data": {
            "text/plain": [
              "'Connected: @None'"
            ],
            "application/vnd.google.colaboratory.intrinsic+json": {
              "type": "string"
            }
          },
          "metadata": {},
          "execution_count": 1
        }
      ],
      "source": [
        "# We will first load the sql extension into our environment\n",
        "%load_ext sql\n",
        "\n",
        "# Then connect to our in memory sqlite database\n",
        "# NB: This database will cease to exist as soon as the database connection is closed. \n",
        "%sql sqlite://"
      ]
    },
    {
      "cell_type": "code",
      "source": [
        "#importimg our libraries to use\n",
        "import numpy as np\n",
        "import pandas as pd\n",
        "import seaborn as sns\n",
        "import matplotlib.pyplot as plt\n",
        "import plotly.express as px\n",
        "from datetime import datetime\n",
        "%matplotlib inline"
      ],
      "metadata": {
        "id": "7khKhhDFdvMa"
      },
      "execution_count": 2,
      "outputs": []
    },
    {
      "cell_type": "code",
      "source": [
        "# Let's load our All combined crypto dataset below\n",
        "#we add limit 5 to get just the head\n",
        "with open('/content/All_combined.csv','r') as f:\n",
        "    crypto_2= pd.read_csv(f, index_col=0, encoding='utf-8')\n",
        "%sql DROP TABLE if EXISTS crypto_2;\n",
        "%sql PERSIST crypto_2;\n",
        "%sql SELECT * FROM crypto_2 LIMIT 5;"
      ],
      "metadata": {
        "colab": {
          "base_uri": "https://localhost:8080/",
          "height": 234
        },
        "id": "kMaKlSktd6NS",
        "outputId": "b68575ca-48e0-4d8d-8ccf-f413598ed3b0"
      },
      "execution_count": 5,
      "outputs": [
        {
          "output_type": "stream",
          "name": "stdout",
          "text": [
            " * sqlite://\n",
            "Done.\n",
            " * sqlite://\n",
            " * sqlite://\n",
            "Done.\n"
          ]
        },
        {
          "output_type": "execute_result",
          "data": {
            "text/plain": [
              "[('Aave', '30/01/2018', 0.15, 0.17, 0.17, 0.14, 530470.0, -7.95),\n",
              " ('Aave', '31/01/2018', 0.14, 0.15, 0.15, 0.13, 396050.0, -11.1),\n",
              " ('Aave', '01/02/2018', 0.11, 0.14, 0.14, 0.11, 987260.0, -17.46),\n",
              " ('Aave', '02/02/2018', 0.1, 0.11, 0.11, 0.08, 1810000.0, -8.32),\n",
              " ('Aave', '03/02/2018', 0.11, 0.1, 0.12, 0.09, 1200000.0, 6.85)]"
            ],
            "text/html": [
              "<table>\n",
              "    <thead>\n",
              "        <tr>\n",
              "            <th>Currency_Name</th>\n",
              "            <th>Date</th>\n",
              "            <th>Price</th>\n",
              "            <th>Open</th>\n",
              "            <th>High</th>\n",
              "            <th>Low</th>\n",
              "            <th>Vol.</th>\n",
              "            <th>Change %</th>\n",
              "        </tr>\n",
              "    </thead>\n",
              "    <tbody>\n",
              "        <tr>\n",
              "            <td>Aave</td>\n",
              "            <td>30/01/2018</td>\n",
              "            <td>0.15</td>\n",
              "            <td>0.17</td>\n",
              "            <td>0.17</td>\n",
              "            <td>0.14</td>\n",
              "            <td>530470.0</td>\n",
              "            <td>-7.95</td>\n",
              "        </tr>\n",
              "        <tr>\n",
              "            <td>Aave</td>\n",
              "            <td>31/01/2018</td>\n",
              "            <td>0.14</td>\n",
              "            <td>0.15</td>\n",
              "            <td>0.15</td>\n",
              "            <td>0.13</td>\n",
              "            <td>396050.0</td>\n",
              "            <td>-11.1</td>\n",
              "        </tr>\n",
              "        <tr>\n",
              "            <td>Aave</td>\n",
              "            <td>01/02/2018</td>\n",
              "            <td>0.11</td>\n",
              "            <td>0.14</td>\n",
              "            <td>0.14</td>\n",
              "            <td>0.11</td>\n",
              "            <td>987260.0</td>\n",
              "            <td>-17.46</td>\n",
              "        </tr>\n",
              "        <tr>\n",
              "            <td>Aave</td>\n",
              "            <td>02/02/2018</td>\n",
              "            <td>0.1</td>\n",
              "            <td>0.11</td>\n",
              "            <td>0.11</td>\n",
              "            <td>0.08</td>\n",
              "            <td>1810000.0</td>\n",
              "            <td>-8.32</td>\n",
              "        </tr>\n",
              "        <tr>\n",
              "            <td>Aave</td>\n",
              "            <td>03/02/2018</td>\n",
              "            <td>0.11</td>\n",
              "            <td>0.1</td>\n",
              "            <td>0.12</td>\n",
              "            <td>0.09</td>\n",
              "            <td>1200000.0</td>\n",
              "            <td>6.85</td>\n",
              "        </tr>\n",
              "    </tbody>\n",
              "</table>"
            ]
          },
          "metadata": {},
          "execution_count": 5
        }
      ]
    },
    {
      "cell_type": "code",
      "source": [
        ""
      ],
      "metadata": {
        "id": "Op3ZR36WfGlP"
      },
      "execution_count": null,
      "outputs": []
    }
  ]
}
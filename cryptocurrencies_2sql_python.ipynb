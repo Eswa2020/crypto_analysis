{
  "nbformat": 4,
  "nbformat_minor": 0,
  "metadata": {
    "colab": {
      "name": "cryptocurrencies_2sql/python.ipynb",
      "provenance": [],
      "toc_visible": true,
      "authorship_tag": "ABX9TyOT6aM11R/9MJnnrd1tS9EK",
      "include_colab_link": true
    },
    "kernelspec": {
      "name": "python3",
      "display_name": "Python 3"
    },
    "language_info": {
      "name": "python"
    }
  },
  "cells": [
    {
      "cell_type": "markdown",
      "metadata": {
        "id": "view-in-github",
        "colab_type": "text"
      },
      "source": [
        "<a href=\"https://colab.research.google.com/github/Eswa2020/crypto_analysis/blob/main/cryptocurrencies_2sql_python.ipynb\" target=\"_parent\"><img src=\"https://colab.research.google.com/assets/colab-badge.svg\" alt=\"Open In Colab\"/></a>"
      ]
    },
    {
      "cell_type": "markdown",
      "source": [
        "##1.Business Understanding"
      ],
      "metadata": {
        "id": "HdqSZbVhdB0K"
      }
    },
    {
      "cell_type": "markdown",
      "source": [
        "##2.Data Understanding\n",
        "\n",
        "With the same data understanding as with the first crypto notebook I decided to use the same data but use a different language to Query my results.\n",
        "\n",
        "By now I have done further business Research as mentioned above and discovered that history price Patterns does not affect crypto future price changes.And prediction done used on historical patterns would be falcy.\n",
        "\n"
      ],
      "metadata": {
        "id": "kx4SmKp-dPxd"
      }
    },
    {
      "cell_type": "markdown",
      "source": [
        "##3.Research Questions"
      ],
      "metadata": {
        "id": "5aBOoFU3faAp"
      }
    },
    {
      "cell_type": "markdown",
      "source": [
        "\n",
        "\n",
        "*   What's the hottest coin Right now?\n",
        "*   What was the hottest coin 5 YEARS AGO?\n",
        "*   What is the highest price coin Right now?\n",
        "*   What is the lowest price coin Right now?\n",
        "*   What is the Highest market value from 2020?\n",
        "*   What is the Lowest market value from 2020?\n",
        "*   Which coin has the Highest price change Right now?\n",
        "*   Which coin has the lowest price change since 2020?\n",
        "*   whats the volume history of the highest coin Right now?\n",
        "*   Whats the volume history of the lowest coin Right now?\n",
        "*   Whats the volume pattern of the first 10 high market value coins?\n",
        "*   Whats the pattern volume of the last 10 worst markets value coins?\n",
        "\n",
        "---\n",
        "\n",
        "\n",
        "\n",
        "\n"
      ],
      "metadata": {
        "id": "lOPaz3hzfeW9"
      }
    },
    {
      "cell_type": "markdown",
      "source": [
        "## 4.Import Libraries and load datasets"
      ],
      "metadata": {
        "id": "bels2oOsnSR8"
      }
    },
    {
      "cell_type": "code",
      "source": [
        "#importimg our libraries to use\n",
        "import numpy as np\n",
        "import pandas as pd\n",
        "import seaborn as sns\n",
        "import matplotlib.pyplot as plt\n",
        "import plotly.express as px\n",
        "from datetime import datetime\n",
        "%matplotlib inline"
      ],
      "metadata": {
        "id": "rD0cteKSndZJ"
      },
      "execution_count": 1,
      "outputs": []
    },
    {
      "cell_type": "code",
      "source": [
        "#let's load the crypto dataset \n",
        "crypto=pd.read_csv(\"/content/All_combined.csv\")\n",
        "crypto.head()"
      ],
      "metadata": {
        "colab": {
          "base_uri": "https://localhost:8080/",
          "height": 206
        },
        "id": "OhHjHBJpnj30",
        "outputId": "fa04ad7f-c86c-4098-c5f7-559ba85a05a8"
      },
      "execution_count": 2,
      "outputs": [
        {
          "output_type": "execute_result",
          "data": {
            "text/plain": [
              "  Currency_Name        Date  Price  Open  High   Low       Vol.  Change %\n",
              "0          Aave  30/01/2018   0.15  0.17  0.17  0.14   530470.0     -7.95\n",
              "1          Aave  31/01/2018   0.14  0.15  0.15  0.13   396050.0    -11.10\n",
              "2          Aave  01/02/2018   0.11  0.14  0.14  0.11   987260.0    -17.46\n",
              "3          Aave  02/02/2018   0.10  0.11  0.11  0.08  1810000.0     -8.32\n",
              "4          Aave  03/02/2018   0.11  0.10  0.12  0.09  1200000.0      6.85"
            ],
            "text/html": [
              "\n",
              "  <div id=\"df-b18363c6-fd8c-4647-a306-7fb1c5034b18\">\n",
              "    <div class=\"colab-df-container\">\n",
              "      <div>\n",
              "<style scoped>\n",
              "    .dataframe tbody tr th:only-of-type {\n",
              "        vertical-align: middle;\n",
              "    }\n",
              "\n",
              "    .dataframe tbody tr th {\n",
              "        vertical-align: top;\n",
              "    }\n",
              "\n",
              "    .dataframe thead th {\n",
              "        text-align: right;\n",
              "    }\n",
              "</style>\n",
              "<table border=\"1\" class=\"dataframe\">\n",
              "  <thead>\n",
              "    <tr style=\"text-align: right;\">\n",
              "      <th></th>\n",
              "      <th>Currency_Name</th>\n",
              "      <th>Date</th>\n",
              "      <th>Price</th>\n",
              "      <th>Open</th>\n",
              "      <th>High</th>\n",
              "      <th>Low</th>\n",
              "      <th>Vol.</th>\n",
              "      <th>Change %</th>\n",
              "    </tr>\n",
              "  </thead>\n",
              "  <tbody>\n",
              "    <tr>\n",
              "      <th>0</th>\n",
              "      <td>Aave</td>\n",
              "      <td>30/01/2018</td>\n",
              "      <td>0.15</td>\n",
              "      <td>0.17</td>\n",
              "      <td>0.17</td>\n",
              "      <td>0.14</td>\n",
              "      <td>530470.0</td>\n",
              "      <td>-7.95</td>\n",
              "    </tr>\n",
              "    <tr>\n",
              "      <th>1</th>\n",
              "      <td>Aave</td>\n",
              "      <td>31/01/2018</td>\n",
              "      <td>0.14</td>\n",
              "      <td>0.15</td>\n",
              "      <td>0.15</td>\n",
              "      <td>0.13</td>\n",
              "      <td>396050.0</td>\n",
              "      <td>-11.10</td>\n",
              "    </tr>\n",
              "    <tr>\n",
              "      <th>2</th>\n",
              "      <td>Aave</td>\n",
              "      <td>01/02/2018</td>\n",
              "      <td>0.11</td>\n",
              "      <td>0.14</td>\n",
              "      <td>0.14</td>\n",
              "      <td>0.11</td>\n",
              "      <td>987260.0</td>\n",
              "      <td>-17.46</td>\n",
              "    </tr>\n",
              "    <tr>\n",
              "      <th>3</th>\n",
              "      <td>Aave</td>\n",
              "      <td>02/02/2018</td>\n",
              "      <td>0.10</td>\n",
              "      <td>0.11</td>\n",
              "      <td>0.11</td>\n",
              "      <td>0.08</td>\n",
              "      <td>1810000.0</td>\n",
              "      <td>-8.32</td>\n",
              "    </tr>\n",
              "    <tr>\n",
              "      <th>4</th>\n",
              "      <td>Aave</td>\n",
              "      <td>03/02/2018</td>\n",
              "      <td>0.11</td>\n",
              "      <td>0.10</td>\n",
              "      <td>0.12</td>\n",
              "      <td>0.09</td>\n",
              "      <td>1200000.0</td>\n",
              "      <td>6.85</td>\n",
              "    </tr>\n",
              "  </tbody>\n",
              "</table>\n",
              "</div>\n",
              "      <button class=\"colab-df-convert\" onclick=\"convertToInteractive('df-b18363c6-fd8c-4647-a306-7fb1c5034b18')\"\n",
              "              title=\"Convert this dataframe to an interactive table.\"\n",
              "              style=\"display:none;\">\n",
              "        \n",
              "  <svg xmlns=\"http://www.w3.org/2000/svg\" height=\"24px\"viewBox=\"0 0 24 24\"\n",
              "       width=\"24px\">\n",
              "    <path d=\"M0 0h24v24H0V0z\" fill=\"none\"/>\n",
              "    <path d=\"M18.56 5.44l.94 2.06.94-2.06 2.06-.94-2.06-.94-.94-2.06-.94 2.06-2.06.94zm-11 1L8.5 8.5l.94-2.06 2.06-.94-2.06-.94L8.5 2.5l-.94 2.06-2.06.94zm10 10l.94 2.06.94-2.06 2.06-.94-2.06-.94-.94-2.06-.94 2.06-2.06.94z\"/><path d=\"M17.41 7.96l-1.37-1.37c-.4-.4-.92-.59-1.43-.59-.52 0-1.04.2-1.43.59L10.3 9.45l-7.72 7.72c-.78.78-.78 2.05 0 2.83L4 21.41c.39.39.9.59 1.41.59.51 0 1.02-.2 1.41-.59l7.78-7.78 2.81-2.81c.8-.78.8-2.07 0-2.86zM5.41 20L4 18.59l7.72-7.72 1.47 1.35L5.41 20z\"/>\n",
              "  </svg>\n",
              "      </button>\n",
              "      \n",
              "  <style>\n",
              "    .colab-df-container {\n",
              "      display:flex;\n",
              "      flex-wrap:wrap;\n",
              "      gap: 12px;\n",
              "    }\n",
              "\n",
              "    .colab-df-convert {\n",
              "      background-color: #E8F0FE;\n",
              "      border: none;\n",
              "      border-radius: 50%;\n",
              "      cursor: pointer;\n",
              "      display: none;\n",
              "      fill: #1967D2;\n",
              "      height: 32px;\n",
              "      padding: 0 0 0 0;\n",
              "      width: 32px;\n",
              "    }\n",
              "\n",
              "    .colab-df-convert:hover {\n",
              "      background-color: #E2EBFA;\n",
              "      box-shadow: 0px 1px 2px rgba(60, 64, 67, 0.3), 0px 1px 3px 1px rgba(60, 64, 67, 0.15);\n",
              "      fill: #174EA6;\n",
              "    }\n",
              "\n",
              "    [theme=dark] .colab-df-convert {\n",
              "      background-color: #3B4455;\n",
              "      fill: #D2E3FC;\n",
              "    }\n",
              "\n",
              "    [theme=dark] .colab-df-convert:hover {\n",
              "      background-color: #434B5C;\n",
              "      box-shadow: 0px 1px 3px 1px rgba(0, 0, 0, 0.15);\n",
              "      filter: drop-shadow(0px 1px 2px rgba(0, 0, 0, 0.3));\n",
              "      fill: #FFFFFF;\n",
              "    }\n",
              "  </style>\n",
              "\n",
              "      <script>\n",
              "        const buttonEl =\n",
              "          document.querySelector('#df-b18363c6-fd8c-4647-a306-7fb1c5034b18 button.colab-df-convert');\n",
              "        buttonEl.style.display =\n",
              "          google.colab.kernel.accessAllowed ? 'block' : 'none';\n",
              "\n",
              "        async function convertToInteractive(key) {\n",
              "          const element = document.querySelector('#df-b18363c6-fd8c-4647-a306-7fb1c5034b18');\n",
              "          const dataTable =\n",
              "            await google.colab.kernel.invokeFunction('convertToInteractive',\n",
              "                                                     [key], {});\n",
              "          if (!dataTable) return;\n",
              "\n",
              "          const docLinkHtml = 'Like what you see? Visit the ' +\n",
              "            '<a target=\"_blank\" href=https://colab.research.google.com/notebooks/data_table.ipynb>data table notebook</a>'\n",
              "            + ' to learn more about interactive tables.';\n",
              "          element.innerHTML = '';\n",
              "          dataTable['output_type'] = 'display_data';\n",
              "          await google.colab.output.renderOutput(dataTable, element);\n",
              "          const docLink = document.createElement('div');\n",
              "          docLink.innerHTML = docLinkHtml;\n",
              "          element.appendChild(docLink);\n",
              "        }\n",
              "      </script>\n",
              "    </div>\n",
              "  </div>\n",
              "  "
            ]
          },
          "metadata": {},
          "execution_count": 2
        }
      ]
    },
    {
      "cell_type": "markdown",
      "source": [
        "##5.Explore the crypto Dataset"
      ],
      "metadata": {
        "id": "f7dHXZ8Wnq-z"
      }
    },
    {
      "cell_type": "code",
      "source": [
        "#let's load the crypto dataset \n",
        "crypto=pd.read_csv(\"/content/All_combined.csv\")\n",
        "crypto.head()"
      ],
      "metadata": {
        "colab": {
          "base_uri": "https://localhost:8080/",
          "height": 206
        },
        "id": "aWZnm1Dlnxbs",
        "outputId": "54d59cef-2ac3-4360-e1ed-e6a5af16d50f"
      },
      "execution_count": 3,
      "outputs": [
        {
          "output_type": "execute_result",
          "data": {
            "text/plain": [
              "  Currency_Name        Date  Price  Open  High   Low       Vol.  Change %\n",
              "0          Aave  30/01/2018   0.15  0.17  0.17  0.14   530470.0     -7.95\n",
              "1          Aave  31/01/2018   0.14  0.15  0.15  0.13   396050.0    -11.10\n",
              "2          Aave  01/02/2018   0.11  0.14  0.14  0.11   987260.0    -17.46\n",
              "3          Aave  02/02/2018   0.10  0.11  0.11  0.08  1810000.0     -8.32\n",
              "4          Aave  03/02/2018   0.11  0.10  0.12  0.09  1200000.0      6.85"
            ],
            "text/html": [
              "\n",
              "  <div id=\"df-189848fc-fa5e-4b4b-813b-6bf60a2cfc01\">\n",
              "    <div class=\"colab-df-container\">\n",
              "      <div>\n",
              "<style scoped>\n",
              "    .dataframe tbody tr th:only-of-type {\n",
              "        vertical-align: middle;\n",
              "    }\n",
              "\n",
              "    .dataframe tbody tr th {\n",
              "        vertical-align: top;\n",
              "    }\n",
              "\n",
              "    .dataframe thead th {\n",
              "        text-align: right;\n",
              "    }\n",
              "</style>\n",
              "<table border=\"1\" class=\"dataframe\">\n",
              "  <thead>\n",
              "    <tr style=\"text-align: right;\">\n",
              "      <th></th>\n",
              "      <th>Currency_Name</th>\n",
              "      <th>Date</th>\n",
              "      <th>Price</th>\n",
              "      <th>Open</th>\n",
              "      <th>High</th>\n",
              "      <th>Low</th>\n",
              "      <th>Vol.</th>\n",
              "      <th>Change %</th>\n",
              "    </tr>\n",
              "  </thead>\n",
              "  <tbody>\n",
              "    <tr>\n",
              "      <th>0</th>\n",
              "      <td>Aave</td>\n",
              "      <td>30/01/2018</td>\n",
              "      <td>0.15</td>\n",
              "      <td>0.17</td>\n",
              "      <td>0.17</td>\n",
              "      <td>0.14</td>\n",
              "      <td>530470.0</td>\n",
              "      <td>-7.95</td>\n",
              "    </tr>\n",
              "    <tr>\n",
              "      <th>1</th>\n",
              "      <td>Aave</td>\n",
              "      <td>31/01/2018</td>\n",
              "      <td>0.14</td>\n",
              "      <td>0.15</td>\n",
              "      <td>0.15</td>\n",
              "      <td>0.13</td>\n",
              "      <td>396050.0</td>\n",
              "      <td>-11.10</td>\n",
              "    </tr>\n",
              "    <tr>\n",
              "      <th>2</th>\n",
              "      <td>Aave</td>\n",
              "      <td>01/02/2018</td>\n",
              "      <td>0.11</td>\n",
              "      <td>0.14</td>\n",
              "      <td>0.14</td>\n",
              "      <td>0.11</td>\n",
              "      <td>987260.0</td>\n",
              "      <td>-17.46</td>\n",
              "    </tr>\n",
              "    <tr>\n",
              "      <th>3</th>\n",
              "      <td>Aave</td>\n",
              "      <td>02/02/2018</td>\n",
              "      <td>0.10</td>\n",
              "      <td>0.11</td>\n",
              "      <td>0.11</td>\n",
              "      <td>0.08</td>\n",
              "      <td>1810000.0</td>\n",
              "      <td>-8.32</td>\n",
              "    </tr>\n",
              "    <tr>\n",
              "      <th>4</th>\n",
              "      <td>Aave</td>\n",
              "      <td>03/02/2018</td>\n",
              "      <td>0.11</td>\n",
              "      <td>0.10</td>\n",
              "      <td>0.12</td>\n",
              "      <td>0.09</td>\n",
              "      <td>1200000.0</td>\n",
              "      <td>6.85</td>\n",
              "    </tr>\n",
              "  </tbody>\n",
              "</table>\n",
              "</div>\n",
              "      <button class=\"colab-df-convert\" onclick=\"convertToInteractive('df-189848fc-fa5e-4b4b-813b-6bf60a2cfc01')\"\n",
              "              title=\"Convert this dataframe to an interactive table.\"\n",
              "              style=\"display:none;\">\n",
              "        \n",
              "  <svg xmlns=\"http://www.w3.org/2000/svg\" height=\"24px\"viewBox=\"0 0 24 24\"\n",
              "       width=\"24px\">\n",
              "    <path d=\"M0 0h24v24H0V0z\" fill=\"none\"/>\n",
              "    <path d=\"M18.56 5.44l.94 2.06.94-2.06 2.06-.94-2.06-.94-.94-2.06-.94 2.06-2.06.94zm-11 1L8.5 8.5l.94-2.06 2.06-.94-2.06-.94L8.5 2.5l-.94 2.06-2.06.94zm10 10l.94 2.06.94-2.06 2.06-.94-2.06-.94-.94-2.06-.94 2.06-2.06.94z\"/><path d=\"M17.41 7.96l-1.37-1.37c-.4-.4-.92-.59-1.43-.59-.52 0-1.04.2-1.43.59L10.3 9.45l-7.72 7.72c-.78.78-.78 2.05 0 2.83L4 21.41c.39.39.9.59 1.41.59.51 0 1.02-.2 1.41-.59l7.78-7.78 2.81-2.81c.8-.78.8-2.07 0-2.86zM5.41 20L4 18.59l7.72-7.72 1.47 1.35L5.41 20z\"/>\n",
              "  </svg>\n",
              "      </button>\n",
              "      \n",
              "  <style>\n",
              "    .colab-df-container {\n",
              "      display:flex;\n",
              "      flex-wrap:wrap;\n",
              "      gap: 12px;\n",
              "    }\n",
              "\n",
              "    .colab-df-convert {\n",
              "      background-color: #E8F0FE;\n",
              "      border: none;\n",
              "      border-radius: 50%;\n",
              "      cursor: pointer;\n",
              "      display: none;\n",
              "      fill: #1967D2;\n",
              "      height: 32px;\n",
              "      padding: 0 0 0 0;\n",
              "      width: 32px;\n",
              "    }\n",
              "\n",
              "    .colab-df-convert:hover {\n",
              "      background-color: #E2EBFA;\n",
              "      box-shadow: 0px 1px 2px rgba(60, 64, 67, 0.3), 0px 1px 3px 1px rgba(60, 64, 67, 0.15);\n",
              "      fill: #174EA6;\n",
              "    }\n",
              "\n",
              "    [theme=dark] .colab-df-convert {\n",
              "      background-color: #3B4455;\n",
              "      fill: #D2E3FC;\n",
              "    }\n",
              "\n",
              "    [theme=dark] .colab-df-convert:hover {\n",
              "      background-color: #434B5C;\n",
              "      box-shadow: 0px 1px 3px 1px rgba(0, 0, 0, 0.15);\n",
              "      filter: drop-shadow(0px 1px 2px rgba(0, 0, 0, 0.3));\n",
              "      fill: #FFFFFF;\n",
              "    }\n",
              "  </style>\n",
              "\n",
              "      <script>\n",
              "        const buttonEl =\n",
              "          document.querySelector('#df-189848fc-fa5e-4b4b-813b-6bf60a2cfc01 button.colab-df-convert');\n",
              "        buttonEl.style.display =\n",
              "          google.colab.kernel.accessAllowed ? 'block' : 'none';\n",
              "\n",
              "        async function convertToInteractive(key) {\n",
              "          const element = document.querySelector('#df-189848fc-fa5e-4b4b-813b-6bf60a2cfc01');\n",
              "          const dataTable =\n",
              "            await google.colab.kernel.invokeFunction('convertToInteractive',\n",
              "                                                     [key], {});\n",
              "          if (!dataTable) return;\n",
              "\n",
              "          const docLinkHtml = 'Like what you see? Visit the ' +\n",
              "            '<a target=\"_blank\" href=https://colab.research.google.com/notebooks/data_table.ipynb>data table notebook</a>'\n",
              "            + ' to learn more about interactive tables.';\n",
              "          element.innerHTML = '';\n",
              "          dataTable['output_type'] = 'display_data';\n",
              "          await google.colab.output.renderOutput(dataTable, element);\n",
              "          const docLink = document.createElement('div');\n",
              "          docLink.innerHTML = docLinkHtml;\n",
              "          element.appendChild(docLink);\n",
              "        }\n",
              "      </script>\n",
              "    </div>\n",
              "  </div>\n",
              "  "
            ]
          },
          "metadata": {},
          "execution_count": 3
        }
      ]
    },
    {
      "cell_type": "code",
      "source": [
        "#we the last column number\n",
        "crypto.tail()"
      ],
      "metadata": {
        "colab": {
          "base_uri": "https://localhost:8080/",
          "height": 206
        },
        "id": "QcTCCqfhn1g5",
        "outputId": "fa5d8437-0cfd-4a77-b749-f14cce5488d0"
      },
      "execution_count": 4,
      "outputs": [
        {
          "output_type": "execute_result",
          "data": {
            "text/plain": [
              "      Currency_Name        Date    Price     Open     High      Low  Vol.  \\\n",
              "53830           XPR  26/01/2015  0.01469  0.01700  0.01750  0.01469   0.0   \n",
              "53831           XPR  25/01/2015  0.01700  0.01739  0.01739  0.01560   0.0   \n",
              "53832           XPR  24/01/2015  0.01739  0.01600  0.01739  0.01500   0.0   \n",
              "53833           XPR  23/01/2015  0.01600  0.01602  0.01700  0.01600   0.0   \n",
              "53834           XPR  22/01/2015  0.01602  0.01523  0.01750  0.01523   0.0   \n",
              "\n",
              "       Change %  \n",
              "53830    -13.59  \n",
              "53831     -2.24  \n",
              "53832      8.69  \n",
              "53833     -0.12  \n",
              "53834      5.19  "
            ],
            "text/html": [
              "\n",
              "  <div id=\"df-19b85c4a-65a1-4fec-b461-b6a2921c0f44\">\n",
              "    <div class=\"colab-df-container\">\n",
              "      <div>\n",
              "<style scoped>\n",
              "    .dataframe tbody tr th:only-of-type {\n",
              "        vertical-align: middle;\n",
              "    }\n",
              "\n",
              "    .dataframe tbody tr th {\n",
              "        vertical-align: top;\n",
              "    }\n",
              "\n",
              "    .dataframe thead th {\n",
              "        text-align: right;\n",
              "    }\n",
              "</style>\n",
              "<table border=\"1\" class=\"dataframe\">\n",
              "  <thead>\n",
              "    <tr style=\"text-align: right;\">\n",
              "      <th></th>\n",
              "      <th>Currency_Name</th>\n",
              "      <th>Date</th>\n",
              "      <th>Price</th>\n",
              "      <th>Open</th>\n",
              "      <th>High</th>\n",
              "      <th>Low</th>\n",
              "      <th>Vol.</th>\n",
              "      <th>Change %</th>\n",
              "    </tr>\n",
              "  </thead>\n",
              "  <tbody>\n",
              "    <tr>\n",
              "      <th>53830</th>\n",
              "      <td>XPR</td>\n",
              "      <td>26/01/2015</td>\n",
              "      <td>0.01469</td>\n",
              "      <td>0.01700</td>\n",
              "      <td>0.01750</td>\n",
              "      <td>0.01469</td>\n",
              "      <td>0.0</td>\n",
              "      <td>-13.59</td>\n",
              "    </tr>\n",
              "    <tr>\n",
              "      <th>53831</th>\n",
              "      <td>XPR</td>\n",
              "      <td>25/01/2015</td>\n",
              "      <td>0.01700</td>\n",
              "      <td>0.01739</td>\n",
              "      <td>0.01739</td>\n",
              "      <td>0.01560</td>\n",
              "      <td>0.0</td>\n",
              "      <td>-2.24</td>\n",
              "    </tr>\n",
              "    <tr>\n",
              "      <th>53832</th>\n",
              "      <td>XPR</td>\n",
              "      <td>24/01/2015</td>\n",
              "      <td>0.01739</td>\n",
              "      <td>0.01600</td>\n",
              "      <td>0.01739</td>\n",
              "      <td>0.01500</td>\n",
              "      <td>0.0</td>\n",
              "      <td>8.69</td>\n",
              "    </tr>\n",
              "    <tr>\n",
              "      <th>53833</th>\n",
              "      <td>XPR</td>\n",
              "      <td>23/01/2015</td>\n",
              "      <td>0.01600</td>\n",
              "      <td>0.01602</td>\n",
              "      <td>0.01700</td>\n",
              "      <td>0.01600</td>\n",
              "      <td>0.0</td>\n",
              "      <td>-0.12</td>\n",
              "    </tr>\n",
              "    <tr>\n",
              "      <th>53834</th>\n",
              "      <td>XPR</td>\n",
              "      <td>22/01/2015</td>\n",
              "      <td>0.01602</td>\n",
              "      <td>0.01523</td>\n",
              "      <td>0.01750</td>\n",
              "      <td>0.01523</td>\n",
              "      <td>0.0</td>\n",
              "      <td>5.19</td>\n",
              "    </tr>\n",
              "  </tbody>\n",
              "</table>\n",
              "</div>\n",
              "      <button class=\"colab-df-convert\" onclick=\"convertToInteractive('df-19b85c4a-65a1-4fec-b461-b6a2921c0f44')\"\n",
              "              title=\"Convert this dataframe to an interactive table.\"\n",
              "              style=\"display:none;\">\n",
              "        \n",
              "  <svg xmlns=\"http://www.w3.org/2000/svg\" height=\"24px\"viewBox=\"0 0 24 24\"\n",
              "       width=\"24px\">\n",
              "    <path d=\"M0 0h24v24H0V0z\" fill=\"none\"/>\n",
              "    <path d=\"M18.56 5.44l.94 2.06.94-2.06 2.06-.94-2.06-.94-.94-2.06-.94 2.06-2.06.94zm-11 1L8.5 8.5l.94-2.06 2.06-.94-2.06-.94L8.5 2.5l-.94 2.06-2.06.94zm10 10l.94 2.06.94-2.06 2.06-.94-2.06-.94-.94-2.06-.94 2.06-2.06.94z\"/><path d=\"M17.41 7.96l-1.37-1.37c-.4-.4-.92-.59-1.43-.59-.52 0-1.04.2-1.43.59L10.3 9.45l-7.72 7.72c-.78.78-.78 2.05 0 2.83L4 21.41c.39.39.9.59 1.41.59.51 0 1.02-.2 1.41-.59l7.78-7.78 2.81-2.81c.8-.78.8-2.07 0-2.86zM5.41 20L4 18.59l7.72-7.72 1.47 1.35L5.41 20z\"/>\n",
              "  </svg>\n",
              "      </button>\n",
              "      \n",
              "  <style>\n",
              "    .colab-df-container {\n",
              "      display:flex;\n",
              "      flex-wrap:wrap;\n",
              "      gap: 12px;\n",
              "    }\n",
              "\n",
              "    .colab-df-convert {\n",
              "      background-color: #E8F0FE;\n",
              "      border: none;\n",
              "      border-radius: 50%;\n",
              "      cursor: pointer;\n",
              "      display: none;\n",
              "      fill: #1967D2;\n",
              "      height: 32px;\n",
              "      padding: 0 0 0 0;\n",
              "      width: 32px;\n",
              "    }\n",
              "\n",
              "    .colab-df-convert:hover {\n",
              "      background-color: #E2EBFA;\n",
              "      box-shadow: 0px 1px 2px rgba(60, 64, 67, 0.3), 0px 1px 3px 1px rgba(60, 64, 67, 0.15);\n",
              "      fill: #174EA6;\n",
              "    }\n",
              "\n",
              "    [theme=dark] .colab-df-convert {\n",
              "      background-color: #3B4455;\n",
              "      fill: #D2E3FC;\n",
              "    }\n",
              "\n",
              "    [theme=dark] .colab-df-convert:hover {\n",
              "      background-color: #434B5C;\n",
              "      box-shadow: 0px 1px 3px 1px rgba(0, 0, 0, 0.15);\n",
              "      filter: drop-shadow(0px 1px 2px rgba(0, 0, 0, 0.3));\n",
              "      fill: #FFFFFF;\n",
              "    }\n",
              "  </style>\n",
              "\n",
              "      <script>\n",
              "        const buttonEl =\n",
              "          document.querySelector('#df-19b85c4a-65a1-4fec-b461-b6a2921c0f44 button.colab-df-convert');\n",
              "        buttonEl.style.display =\n",
              "          google.colab.kernel.accessAllowed ? 'block' : 'none';\n",
              "\n",
              "        async function convertToInteractive(key) {\n",
              "          const element = document.querySelector('#df-19b85c4a-65a1-4fec-b461-b6a2921c0f44');\n",
              "          const dataTable =\n",
              "            await google.colab.kernel.invokeFunction('convertToInteractive',\n",
              "                                                     [key], {});\n",
              "          if (!dataTable) return;\n",
              "\n",
              "          const docLinkHtml = 'Like what you see? Visit the ' +\n",
              "            '<a target=\"_blank\" href=https://colab.research.google.com/notebooks/data_table.ipynb>data table notebook</a>'\n",
              "            + ' to learn more about interactive tables.';\n",
              "          element.innerHTML = '';\n",
              "          dataTable['output_type'] = 'display_data';\n",
              "          await google.colab.output.renderOutput(dataTable, element);\n",
              "          const docLink = document.createElement('div');\n",
              "          docLink.innerHTML = docLinkHtml;\n",
              "          element.appendChild(docLink);\n",
              "        }\n",
              "      </script>\n",
              "    </div>\n",
              "  </div>\n",
              "  "
            ]
          },
          "metadata": {},
          "execution_count": 4
        }
      ]
    },
    {
      "cell_type": "code",
      "source": [
        "#we the last column number\n",
        "crypto.tail()"
      ],
      "metadata": {
        "colab": {
          "base_uri": "https://localhost:8080/",
          "height": 206
        },
        "id": "z1fl9Onhn4NY",
        "outputId": "bc375218-3ca0-47e6-85cb-573f04864bc0"
      },
      "execution_count": 5,
      "outputs": [
        {
          "output_type": "execute_result",
          "data": {
            "text/plain": [
              "      Currency_Name        Date    Price     Open     High      Low  Vol.  \\\n",
              "53830           XPR  26/01/2015  0.01469  0.01700  0.01750  0.01469   0.0   \n",
              "53831           XPR  25/01/2015  0.01700  0.01739  0.01739  0.01560   0.0   \n",
              "53832           XPR  24/01/2015  0.01739  0.01600  0.01739  0.01500   0.0   \n",
              "53833           XPR  23/01/2015  0.01600  0.01602  0.01700  0.01600   0.0   \n",
              "53834           XPR  22/01/2015  0.01602  0.01523  0.01750  0.01523   0.0   \n",
              "\n",
              "       Change %  \n",
              "53830    -13.59  \n",
              "53831     -2.24  \n",
              "53832      8.69  \n",
              "53833     -0.12  \n",
              "53834      5.19  "
            ],
            "text/html": [
              "\n",
              "  <div id=\"df-d042d628-096f-4e9a-a684-f261fcd882da\">\n",
              "    <div class=\"colab-df-container\">\n",
              "      <div>\n",
              "<style scoped>\n",
              "    .dataframe tbody tr th:only-of-type {\n",
              "        vertical-align: middle;\n",
              "    }\n",
              "\n",
              "    .dataframe tbody tr th {\n",
              "        vertical-align: top;\n",
              "    }\n",
              "\n",
              "    .dataframe thead th {\n",
              "        text-align: right;\n",
              "    }\n",
              "</style>\n",
              "<table border=\"1\" class=\"dataframe\">\n",
              "  <thead>\n",
              "    <tr style=\"text-align: right;\">\n",
              "      <th></th>\n",
              "      <th>Currency_Name</th>\n",
              "      <th>Date</th>\n",
              "      <th>Price</th>\n",
              "      <th>Open</th>\n",
              "      <th>High</th>\n",
              "      <th>Low</th>\n",
              "      <th>Vol.</th>\n",
              "      <th>Change %</th>\n",
              "    </tr>\n",
              "  </thead>\n",
              "  <tbody>\n",
              "    <tr>\n",
              "      <th>53830</th>\n",
              "      <td>XPR</td>\n",
              "      <td>26/01/2015</td>\n",
              "      <td>0.01469</td>\n",
              "      <td>0.01700</td>\n",
              "      <td>0.01750</td>\n",
              "      <td>0.01469</td>\n",
              "      <td>0.0</td>\n",
              "      <td>-13.59</td>\n",
              "    </tr>\n",
              "    <tr>\n",
              "      <th>53831</th>\n",
              "      <td>XPR</td>\n",
              "      <td>25/01/2015</td>\n",
              "      <td>0.01700</td>\n",
              "      <td>0.01739</td>\n",
              "      <td>0.01739</td>\n",
              "      <td>0.01560</td>\n",
              "      <td>0.0</td>\n",
              "      <td>-2.24</td>\n",
              "    </tr>\n",
              "    <tr>\n",
              "      <th>53832</th>\n",
              "      <td>XPR</td>\n",
              "      <td>24/01/2015</td>\n",
              "      <td>0.01739</td>\n",
              "      <td>0.01600</td>\n",
              "      <td>0.01739</td>\n",
              "      <td>0.01500</td>\n",
              "      <td>0.0</td>\n",
              "      <td>8.69</td>\n",
              "    </tr>\n",
              "    <tr>\n",
              "      <th>53833</th>\n",
              "      <td>XPR</td>\n",
              "      <td>23/01/2015</td>\n",
              "      <td>0.01600</td>\n",
              "      <td>0.01602</td>\n",
              "      <td>0.01700</td>\n",
              "      <td>0.01600</td>\n",
              "      <td>0.0</td>\n",
              "      <td>-0.12</td>\n",
              "    </tr>\n",
              "    <tr>\n",
              "      <th>53834</th>\n",
              "      <td>XPR</td>\n",
              "      <td>22/01/2015</td>\n",
              "      <td>0.01602</td>\n",
              "      <td>0.01523</td>\n",
              "      <td>0.01750</td>\n",
              "      <td>0.01523</td>\n",
              "      <td>0.0</td>\n",
              "      <td>5.19</td>\n",
              "    </tr>\n",
              "  </tbody>\n",
              "</table>\n",
              "</div>\n",
              "      <button class=\"colab-df-convert\" onclick=\"convertToInteractive('df-d042d628-096f-4e9a-a684-f261fcd882da')\"\n",
              "              title=\"Convert this dataframe to an interactive table.\"\n",
              "              style=\"display:none;\">\n",
              "        \n",
              "  <svg xmlns=\"http://www.w3.org/2000/svg\" height=\"24px\"viewBox=\"0 0 24 24\"\n",
              "       width=\"24px\">\n",
              "    <path d=\"M0 0h24v24H0V0z\" fill=\"none\"/>\n",
              "    <path d=\"M18.56 5.44l.94 2.06.94-2.06 2.06-.94-2.06-.94-.94-2.06-.94 2.06-2.06.94zm-11 1L8.5 8.5l.94-2.06 2.06-.94-2.06-.94L8.5 2.5l-.94 2.06-2.06.94zm10 10l.94 2.06.94-2.06 2.06-.94-2.06-.94-.94-2.06-.94 2.06-2.06.94z\"/><path d=\"M17.41 7.96l-1.37-1.37c-.4-.4-.92-.59-1.43-.59-.52 0-1.04.2-1.43.59L10.3 9.45l-7.72 7.72c-.78.78-.78 2.05 0 2.83L4 21.41c.39.39.9.59 1.41.59.51 0 1.02-.2 1.41-.59l7.78-7.78 2.81-2.81c.8-.78.8-2.07 0-2.86zM5.41 20L4 18.59l7.72-7.72 1.47 1.35L5.41 20z\"/>\n",
              "  </svg>\n",
              "      </button>\n",
              "      \n",
              "  <style>\n",
              "    .colab-df-container {\n",
              "      display:flex;\n",
              "      flex-wrap:wrap;\n",
              "      gap: 12px;\n",
              "    }\n",
              "\n",
              "    .colab-df-convert {\n",
              "      background-color: #E8F0FE;\n",
              "      border: none;\n",
              "      border-radius: 50%;\n",
              "      cursor: pointer;\n",
              "      display: none;\n",
              "      fill: #1967D2;\n",
              "      height: 32px;\n",
              "      padding: 0 0 0 0;\n",
              "      width: 32px;\n",
              "    }\n",
              "\n",
              "    .colab-df-convert:hover {\n",
              "      background-color: #E2EBFA;\n",
              "      box-shadow: 0px 1px 2px rgba(60, 64, 67, 0.3), 0px 1px 3px 1px rgba(60, 64, 67, 0.15);\n",
              "      fill: #174EA6;\n",
              "    }\n",
              "\n",
              "    [theme=dark] .colab-df-convert {\n",
              "      background-color: #3B4455;\n",
              "      fill: #D2E3FC;\n",
              "    }\n",
              "\n",
              "    [theme=dark] .colab-df-convert:hover {\n",
              "      background-color: #434B5C;\n",
              "      box-shadow: 0px 1px 3px 1px rgba(0, 0, 0, 0.15);\n",
              "      filter: drop-shadow(0px 1px 2px rgba(0, 0, 0, 0.3));\n",
              "      fill: #FFFFFF;\n",
              "    }\n",
              "  </style>\n",
              "\n",
              "      <script>\n",
              "        const buttonEl =\n",
              "          document.querySelector('#df-d042d628-096f-4e9a-a684-f261fcd882da button.colab-df-convert');\n",
              "        buttonEl.style.display =\n",
              "          google.colab.kernel.accessAllowed ? 'block' : 'none';\n",
              "\n",
              "        async function convertToInteractive(key) {\n",
              "          const element = document.querySelector('#df-d042d628-096f-4e9a-a684-f261fcd882da');\n",
              "          const dataTable =\n",
              "            await google.colab.kernel.invokeFunction('convertToInteractive',\n",
              "                                                     [key], {});\n",
              "          if (!dataTable) return;\n",
              "\n",
              "          const docLinkHtml = 'Like what you see? Visit the ' +\n",
              "            '<a target=\"_blank\" href=https://colab.research.google.com/notebooks/data_table.ipynb>data table notebook</a>'\n",
              "            + ' to learn more about interactive tables.';\n",
              "          element.innerHTML = '';\n",
              "          dataTable['output_type'] = 'display_data';\n",
              "          await google.colab.output.renderOutput(dataTable, element);\n",
              "          const docLink = document.createElement('div');\n",
              "          docLink.innerHTML = docLinkHtml;\n",
              "          element.appendChild(docLink);\n",
              "        }\n",
              "      </script>\n",
              "    </div>\n",
              "  </div>\n",
              "  "
            ]
          },
          "metadata": {},
          "execution_count": 5
        }
      ]
    },
    {
      "cell_type": "code",
      "source": [
        "#check for duplicates\n",
        "print(crypto.duplicated().sum())"
      ],
      "metadata": {
        "colab": {
          "base_uri": "https://localhost:8080/"
        },
        "id": "V34ctMACoCBU",
        "outputId": "1ef96457-b41c-43f8-e285-9a97ac64e9df"
      },
      "execution_count": 6,
      "outputs": [
        {
          "output_type": "stream",
          "name": "stdout",
          "text": [
            "0\n"
          ]
        }
      ]
    },
    {
      "cell_type": "code",
      "source": [
        "#check for data_types of the columns\n",
        "crypto.info()"
      ],
      "metadata": {
        "colab": {
          "base_uri": "https://localhost:8080/"
        },
        "id": "-lsRzA88oFf5",
        "outputId": "5814d66f-5eb6-4d66-b360-47d6574f66e6"
      },
      "execution_count": 7,
      "outputs": [
        {
          "output_type": "stream",
          "name": "stdout",
          "text": [
            "<class 'pandas.core.frame.DataFrame'>\n",
            "RangeIndex: 53835 entries, 0 to 53834\n",
            "Data columns (total 8 columns):\n",
            " #   Column         Non-Null Count  Dtype  \n",
            "---  ------         --------------  -----  \n",
            " 0   Currency_Name  53835 non-null  object \n",
            " 1   Date           53835 non-null  object \n",
            " 2   Price          53835 non-null  float64\n",
            " 3   Open           53835 non-null  float64\n",
            " 4   High           53835 non-null  float64\n",
            " 5   Low            53835 non-null  float64\n",
            " 6   Vol.           53835 non-null  float64\n",
            " 7   Change %       53835 non-null  float64\n",
            "dtypes: float64(6), object(2)\n",
            "memory usage: 3.3+ MB\n"
          ]
        }
      ]
    },
    {
      "cell_type": "markdown",
      "source": [
        "#### **OBSERVATIONS**\n",
        "\n",
        "1. dataset has 8columns and 53835rows\n",
        "2. it has no null values\n",
        "3. it also has  no duplicates \n",
        "4. it contains mostly numerical datatype except date column and currency name which are object and date should be changed to date.\n",
        "5.We will also query the table in sql with itself and then save it In csv for easier analysis "
      ],
      "metadata": {
        "id": "-R9IloU3oPzL"
      }
    },
    {
      "cell_type": "markdown",
      "source": [
        "#5.Cleaning our crypto dataset"
      ],
      "metadata": {
        "id": "DS0TGqCapDs7"
      }
    },
    {
      "cell_type": "code",
      "source": [
        "#since the data is mostly clean we start with changing the date column from\"object\"to\"date\"\n",
        "#convert column to datetime pandas\n",
        "crypto['Date'] = pd.to_datetime(crypto['Date'])\n"
      ],
      "metadata": {
        "id": "i_8L-TcRpF1B"
      },
      "execution_count": 3,
      "outputs": []
    },
    {
      "cell_type": "code",
      "source": [
        "#Exctract month and create a dedicated column df[\"Month\"] from a \n",
        "#column in datetime format df[\"Date\"]\n",
        "crypto['Month'] = pd.DatetimeIndex(crypto['Date']).month"
      ],
      "metadata": {
        "id": "m7-aqFjppNyZ"
      },
      "execution_count": 4,
      "outputs": []
    },
    {
      "cell_type": "code",
      "source": [
        "#Exctract month and create a dedicated column df[\"year\"] from a \n",
        "#column in datetime format df[\"Date\"]\n",
        "#this helps in analysis\n",
        "crypto['year'] = pd.DatetimeIndex(crypto['Date']).year"
      ],
      "metadata": {
        "id": "mnUHbe7ApSNe"
      },
      "execution_count": 5,
      "outputs": []
    },
    {
      "cell_type": "code",
      "source": [
        "crypto.rename(columns = {'Price':'price','Currency_Name':'name','Vol.':'volume'}, inplace = True)"
      ],
      "metadata": {
        "id": "KqiCsr_nrmEY"
      },
      "execution_count": 33,
      "outputs": []
    },
    {
      "cell_type": "code",
      "source": [
        "crypto.info()"
      ],
      "metadata": {
        "colab": {
          "base_uri": "https://localhost:8080/"
        },
        "id": "em2dcVECpWz2",
        "outputId": "bcccd39a-c9f9-4a6f-a4de-452f4b2073d8"
      },
      "execution_count": 34,
      "outputs": [
        {
          "output_type": "stream",
          "name": "stdout",
          "text": [
            "<class 'pandas.core.frame.DataFrame'>\n",
            "RangeIndex: 53835 entries, 0 to 53834\n",
            "Data columns (total 10 columns):\n",
            " #   Column    Non-Null Count  Dtype         \n",
            "---  ------    --------------  -----         \n",
            " 0   name      53835 non-null  object        \n",
            " 1   Date      53835 non-null  datetime64[ns]\n",
            " 2   price     53835 non-null  float64       \n",
            " 3   Open      53835 non-null  float64       \n",
            " 4   High      53835 non-null  float64       \n",
            " 5   Low       53835 non-null  float64       \n",
            " 6   volume    53835 non-null  float64       \n",
            " 7   Change %  53835 non-null  float64       \n",
            " 8   Month     53835 non-null  int64         \n",
            " 9   year      53835 non-null  int64         \n",
            "dtypes: datetime64[ns](1), float64(6), int64(2), object(1)\n",
            "memory usage: 4.1+ MB\n"
          ]
        }
      ]
    },
    {
      "cell_type": "markdown",
      "source": [
        "####**saving a cleaned dataset into csv**"
      ],
      "metadata": {
        "id": "4pGaLB73qGay"
      }
    },
    {
      "cell_type": "code",
      "source": [
        " crypto_2=crypto.to_csv('raw_data.csv', index=False)\n"
      ],
      "metadata": {
        "id": "70vMu4q4q33Z"
      },
      "execution_count": 35,
      "outputs": []
    },
    {
      "cell_type": "markdown",
      "source": [
        "#6.Import SQL libraries and load datasets"
      ],
      "metadata": {
        "id": "M2oYnnDRn3oQ"
      }
    },
    {
      "cell_type": "code",
      "execution_count": 8,
      "metadata": {
        "colab": {
          "base_uri": "https://localhost:8080/",
          "height": 36
        },
        "id": "u1aaAExoc5Qb",
        "outputId": "fab383bd-53a4-4942-f0d6-5c78519af2cd"
      },
      "outputs": [
        {
          "output_type": "execute_result",
          "data": {
            "text/plain": [
              "'Connected: @None'"
            ],
            "application/vnd.google.colaboratory.intrinsic+json": {
              "type": "string"
            }
          },
          "metadata": {},
          "execution_count": 8
        }
      ],
      "source": [
        "# We will first load the sql extension into our environment\n",
        "%load_ext sql\n",
        "\n",
        "# Then connect to our in memory sqlite database\n",
        "# NB: This database will cease to exist as soon as the database connection is closed. \n",
        "%sql sqlite://"
      ]
    },
    {
      "cell_type": "markdown",
      "source": [
        ""
      ],
      "metadata": {
        "id": "q8rlBXuzrpTQ"
      }
    },
    {
      "cell_type": "code",
      "source": [
        "#importimg our libraries to use\n",
        "import numpy as np\n",
        "import pandas as pd\n",
        "import seaborn as sns\n",
        "import matplotlib.pyplot as plt\n",
        "import plotly.express as px\n",
        "from datetime import datetime\n",
        "%matplotlib inline"
      ],
      "metadata": {
        "id": "7khKhhDFdvMa"
      },
      "execution_count": 9,
      "outputs": []
    },
    {
      "cell_type": "code",
      "source": [
        "# Let's load our All combined crypto dataset below\n",
        "# And drop any existing tables if any similar to the one that we will be working with\n",
        "# we add limit 5 to preview the first five entries of our csv table\n",
        "with open('raw_data.csv','r') as f:\n",
        "    crypto_2= pd.read_csv(f, index_col=0, encoding='utf-8')\n",
        "%sql DROP TABLE if EXISTS crypto_2;\n",
        "%sql PERSIST crypto_2;\n",
        "%sql SELECT * FROM crypto_2 LIMIT 5;"
      ],
      "metadata": {
        "colab": {
          "base_uri": "https://localhost:8080/",
          "height": 233
        },
        "id": "kMaKlSktd6NS",
        "outputId": "b4c5f4ac-76a9-40c0-92ce-dba5aabec329"
      },
      "execution_count": 36,
      "outputs": [
        {
          "output_type": "stream",
          "name": "stdout",
          "text": [
            " * sqlite://\n",
            "Done.\n",
            " * sqlite://\n",
            " * sqlite://\n",
            "Done.\n"
          ]
        },
        {
          "output_type": "execute_result",
          "data": {
            "text/plain": [
              "[('Aave', '2018-01-30', 0.15, 0.17, 0.17, 0.14, 530470.0, -7.95, 1, 2018),\n",
              " ('Aave', '2018-01-31', 0.14, 0.15, 0.15, 0.13, 396050.0, -11.1, 1, 2018),\n",
              " ('Aave', '2018-01-02', 0.11, 0.14, 0.14, 0.11, 987260.0, -17.46, 1, 2018),\n",
              " ('Aave', '2018-02-02', 0.1, 0.11, 0.11, 0.08, 1810000.0, -8.32, 2, 2018),\n",
              " ('Aave', '2018-03-02', 0.11, 0.1, 0.12, 0.09, 1200000.0, 6.85, 3, 2018)]"
            ],
            "text/html": [
              "<table>\n",
              "    <thead>\n",
              "        <tr>\n",
              "            <th>name</th>\n",
              "            <th>Date</th>\n",
              "            <th>price</th>\n",
              "            <th>Open</th>\n",
              "            <th>High</th>\n",
              "            <th>Low</th>\n",
              "            <th>volume</th>\n",
              "            <th>Change %</th>\n",
              "            <th>Month</th>\n",
              "            <th>year</th>\n",
              "        </tr>\n",
              "    </thead>\n",
              "    <tbody>\n",
              "        <tr>\n",
              "            <td>Aave</td>\n",
              "            <td>2018-01-30</td>\n",
              "            <td>0.15</td>\n",
              "            <td>0.17</td>\n",
              "            <td>0.17</td>\n",
              "            <td>0.14</td>\n",
              "            <td>530470.0</td>\n",
              "            <td>-7.95</td>\n",
              "            <td>1</td>\n",
              "            <td>2018</td>\n",
              "        </tr>\n",
              "        <tr>\n",
              "            <td>Aave</td>\n",
              "            <td>2018-01-31</td>\n",
              "            <td>0.14</td>\n",
              "            <td>0.15</td>\n",
              "            <td>0.15</td>\n",
              "            <td>0.13</td>\n",
              "            <td>396050.0</td>\n",
              "            <td>-11.1</td>\n",
              "            <td>1</td>\n",
              "            <td>2018</td>\n",
              "        </tr>\n",
              "        <tr>\n",
              "            <td>Aave</td>\n",
              "            <td>2018-01-02</td>\n",
              "            <td>0.11</td>\n",
              "            <td>0.14</td>\n",
              "            <td>0.14</td>\n",
              "            <td>0.11</td>\n",
              "            <td>987260.0</td>\n",
              "            <td>-17.46</td>\n",
              "            <td>1</td>\n",
              "            <td>2018</td>\n",
              "        </tr>\n",
              "        <tr>\n",
              "            <td>Aave</td>\n",
              "            <td>2018-02-02</td>\n",
              "            <td>0.1</td>\n",
              "            <td>0.11</td>\n",
              "            <td>0.11</td>\n",
              "            <td>0.08</td>\n",
              "            <td>1810000.0</td>\n",
              "            <td>-8.32</td>\n",
              "            <td>2</td>\n",
              "            <td>2018</td>\n",
              "        </tr>\n",
              "        <tr>\n",
              "            <td>Aave</td>\n",
              "            <td>2018-03-02</td>\n",
              "            <td>0.11</td>\n",
              "            <td>0.1</td>\n",
              "            <td>0.12</td>\n",
              "            <td>0.09</td>\n",
              "            <td>1200000.0</td>\n",
              "            <td>6.85</td>\n",
              "            <td>3</td>\n",
              "            <td>2018</td>\n",
              "        </tr>\n",
              "    </tbody>\n",
              "</table>"
            ]
          },
          "metadata": {},
          "execution_count": 36
        }
      ]
    },
    {
      "cell_type": "markdown",
      "source": [
        "#7.Sql Queries"
      ],
      "metadata": {
        "id": "6W8Z085wuuwu"
      }
    },
    {
      "cell_type": "markdown",
      "source": [
        "###### **a**).What's the hottest coin Right now?\n",
        "What is the hottest cryptocurrency?to answer this we can simply check which coins have the highest market cap currently.Where we already know market cap stands for current demand for a specific coin or what has been held in worth of investment of a specific coin.\n",
        "\n",
        "So,We arrange them from the Largest cryptocurrencies by market cap"
      ],
      "metadata": {
        "id": "nt2qXbO5r-bs"
      }
    },
    {
      "cell_type": "code",
      "source": [
        "%%sql\n",
        "\n",
        "SELECT name,volume AS market_cap,year\n",
        "\n",
        "FROM crypto_2\n",
        "\n",
        "WHERE year='2021'\n",
        "\n",
        "GROUP BY name\n",
        "\n",
        "ORDER BY market_cap DESC\n",
        "\n",
        "LIMIT 10;\n"
      ],
      "metadata": {
        "colab": {
          "base_uri": "https://localhost:8080/",
          "height": 280
        },
        "id": "b4Tj6WPg7P74",
        "outputId": "1e3b6c9c-e2f9-4ab0-a204-0fd426dfcb4b"
      },
      "execution_count": 60,
      "outputs": [
        {
          "output_type": "stream",
          "name": "stdout",
          "text": [
            " * sqlite://\n",
            "Done.\n"
          ]
        },
        {
          "output_type": "execute_result",
          "data": {
            "text/plain": [
              "[('SHIBA_INU', 158456000000.0, 2021),\n",
              " ('BitTorrent', 46830000000.0, 2021),\n",
              " ('Binance_USD', 2330000000.0, 2021),\n",
              " ('Dogecoin', 2110000000.0, 2021),\n",
              " ('Cardano', 679650000.0, 2021),\n",
              " ('Tron', 443000000.0, 2021),\n",
              " ('Stellar', 400200000.0, 2021),\n",
              " ('XPR', 298000000.0, 2021),\n",
              " ('VeChain', 138000000.0, 2021),\n",
              " ('Polygon', 123100000.0, 2021)]"
            ],
            "text/html": [
              "<table>\n",
              "    <thead>\n",
              "        <tr>\n",
              "            <th>name</th>\n",
              "            <th>market_cap</th>\n",
              "            <th>year</th>\n",
              "        </tr>\n",
              "    </thead>\n",
              "    <tbody>\n",
              "        <tr>\n",
              "            <td>SHIBA_INU</td>\n",
              "            <td>158456000000.0</td>\n",
              "            <td>2021</td>\n",
              "        </tr>\n",
              "        <tr>\n",
              "            <td>BitTorrent</td>\n",
              "            <td>46830000000.0</td>\n",
              "            <td>2021</td>\n",
              "        </tr>\n",
              "        <tr>\n",
              "            <td>Binance_USD</td>\n",
              "            <td>2330000000.0</td>\n",
              "            <td>2021</td>\n",
              "        </tr>\n",
              "        <tr>\n",
              "            <td>Dogecoin</td>\n",
              "            <td>2110000000.0</td>\n",
              "            <td>2021</td>\n",
              "        </tr>\n",
              "        <tr>\n",
              "            <td>Cardano</td>\n",
              "            <td>679650000.0</td>\n",
              "            <td>2021</td>\n",
              "        </tr>\n",
              "        <tr>\n",
              "            <td>Tron</td>\n",
              "            <td>443000000.0</td>\n",
              "            <td>2021</td>\n",
              "        </tr>\n",
              "        <tr>\n",
              "            <td>Stellar</td>\n",
              "            <td>400200000.0</td>\n",
              "            <td>2021</td>\n",
              "        </tr>\n",
              "        <tr>\n",
              "            <td>XPR</td>\n",
              "            <td>298000000.0</td>\n",
              "            <td>2021</td>\n",
              "        </tr>\n",
              "        <tr>\n",
              "            <td>VeChain</td>\n",
              "            <td>138000000.0</td>\n",
              "            <td>2021</td>\n",
              "        </tr>\n",
              "        <tr>\n",
              "            <td>Polygon</td>\n",
              "            <td>123100000.0</td>\n",
              "            <td>2021</td>\n",
              "        </tr>\n",
              "    </tbody>\n",
              "</table>"
            ]
          },
          "metadata": {},
          "execution_count": 60
        }
      ]
    },
    {
      "cell_type": "markdown",
      "source": [
        "###### **b**)What was the hottest coin 5 YEARS AGO?"
      ],
      "metadata": {
        "id": "zU6XKBs7zBp0"
      }
    },
    {
      "cell_type": "code",
      "source": [
        ""
      ],
      "metadata": {
        "id": "HqH82iH0zS4T"
      },
      "execution_count": null,
      "outputs": []
    },
    {
      "cell_type": "code",
      "source": [
        "%%sql\n",
        "\n",
        "SELECT COUNT(DISTINCT year)\n",
        "\n",
        "FROM crypto_2;"
      ],
      "metadata": {
        "colab": {
          "base_uri": "https://localhost:8080/",
          "height": 95
        },
        "id": "yGk62MKB7pPN",
        "outputId": "738f5dc6-a3b1-479e-9851-5777c1a28129"
      },
      "execution_count": 22,
      "outputs": [
        {
          "output_type": "stream",
          "name": "stdout",
          "text": [
            " * sqlite://\n",
            "Done.\n"
          ]
        },
        {
          "output_type": "execute_result",
          "data": {
            "text/plain": [
              "[(12,)]"
            ],
            "text/html": [
              "<table>\n",
              "    <thead>\n",
              "        <tr>\n",
              "            <th>COUNT(DISTINCT year)</th>\n",
              "        </tr>\n",
              "    </thead>\n",
              "    <tbody>\n",
              "        <tr>\n",
              "            <td>12</td>\n",
              "        </tr>\n",
              "    </tbody>\n",
              "</table>"
            ]
          },
          "metadata": {},
          "execution_count": 22
        }
      ]
    },
    {
      "cell_type": "code",
      "source": [
        "# Whats the hottest crypto coin right now?\n",
        "%%sql\n",
        "SELECT Currency_Name,Price,Vol.,Change %,Date\n",
        "FROM crypto_2;"
      ],
      "metadata": {
        "colab": {
          "base_uri": "https://localhost:8080/"
        },
        "id": "frJbzGLou6lE",
        "outputId": "2f3d3ba2-8df0-4752-cc20-096326d54175"
      },
      "execution_count": null,
      "outputs": [
        {
          "output_type": "stream",
          "name": "stdout",
          "text": [
            " * sqlite://\n",
            "(sqlite3.OperationalError) near \",\": syntax error\n",
            "[SQL: SELECT Currency_Name,Price,Vol.,Change %,Date\n",
            "FROM crypto_2;]\n",
            "(Background on this error at: https://sqlalche.me/e/14/e3q8)\n"
          ]
        }
      ]
    },
    {
      "cell_type": "code",
      "source": [
        "# Whats the hottest crypto coin right now?\n",
        "\n",
        "%%sql\n",
        "\n",
        "SELECT Currency_Name,Price,Vol.,Change%,Date\n",
        "\n",
        "FROM crypto_2\n",
        "\n",
        "WHERE Date > \"01/01/2021\"\n",
        "\n",
        "AND Date < \"31/12/2021\";\n"
      ],
      "metadata": {
        "colab": {
          "base_uri": "https://localhost:8080/"
        },
        "id": "v18XT67Le4od",
        "outputId": "4834c79c-01af-4f3a-dd0e-008e13201ff0"
      },
      "execution_count": null,
      "outputs": [
        {
          "output_type": "stream",
          "name": "stdout",
          "text": [
            " * sqlite://\n",
            "(sqlite3.OperationalError) near \",\": syntax error\n",
            "[SQL: SELECT Currency_Name,Price,Vol.,Change%,Date\n",
            "\n",
            "FROM crypto_2\n",
            "\n",
            "WHERE Date > \"01/01/2021\"\n",
            "\n",
            "AND Date < \"31/12/2021\";]\n",
            "(Background on this error at: https://sqlalche.me/e/14/e3q8)\n"
          ]
        }
      ]
    },
    {
      "cell_type": "code",
      "source": [
        "%%sql\n",
        "SELECT Currency_Name AS name,\n",
        "        MAX(Price) AS price,\n",
        "        Date\n",
        "FROM crypto_2\n",
        "GROUP BY Currency_Name\n",
        "ORDER BY Date DESC\n",
        "LIMIT 25;"
      ],
      "metadata": {
        "colab": {
          "base_uri": "https://localhost:8080/",
          "height": 586
        },
        "id": "oevPWftvlo8C",
        "outputId": "f6247db4-dd12-4acf-82c0-d31786b4b221"
      },
      "execution_count": null,
      "outputs": [
        {
          "output_type": "stream",
          "name": "stdout",
          "text": [
            " * sqlite://\n",
            "Done.\n"
          ]
        },
        {
          "output_type": "execute_result",
          "data": {
            "text/plain": [
              "[('Tether', 1.06, '31/05/2017'),\n",
              " ('Filecoin', 190.86, '31/03/2021'),\n",
              " ('PancakeSwap', 42.68, '29/04/2021'),\n",
              " ('EOS', 21.4178, '29/04/2018'),\n",
              " ('Uniswap', 42.837, '28/04/2021'),\n",
              " ('Klaytn', 2.49, '26/04/2021'),\n",
              " ('Axie_Infinity', 77.3631, '23/08/2021'),\n",
              " ('Cardano', 2.915319, '23/08/2021'),\n",
              " ('VeChain', 8.168, '22/01/2018'),\n",
              " ('Bitcoin_Cash', 3708.9, '20/12/2017'),\n",
              " ('Dash', 1432.5, '20/12/2017'),\n",
              " ('Solana', 78.542, '20/08/2021'),\n",
              " ('IOTA', 5.32, '19/12/2017'),\n",
              " ('Aave', 629.38, '18/05/2021'),\n",
              " ('Polygon', 2.45004, '18/05/2021'),\n",
              " ('Algorand', 1.6957, '17/04/2021'),\n",
              " ('Bitcoin_SV', 440.25, '16/04/2021'),\n",
              " ('THETA', 14.1949, '16/04/2021'),\n",
              " ('Crypto.com_Coin', 0.2455, '15/04/2021'),\n",
              " ('Neo', 189.45, '15/01/2018'),\n",
              " ('ICP', 304.01, '14/05/2021'),\n",
              " ('Kusama', 595.29, '14/05/2021'),\n",
              " ('Polkadot', 48.075, '14/05/2021'),\n",
              " ('SHIBA_INU', 2.1e-05, '13/05/2021'),\n",
              " ('Bitcoin', 63540.9, '13/04/2021')]"
            ],
            "text/html": [
              "<table>\n",
              "    <thead>\n",
              "        <tr>\n",
              "            <th>name</th>\n",
              "            <th>price</th>\n",
              "            <th>Date</th>\n",
              "        </tr>\n",
              "    </thead>\n",
              "    <tbody>\n",
              "        <tr>\n",
              "            <td>Tether</td>\n",
              "            <td>1.06</td>\n",
              "            <td>31/05/2017</td>\n",
              "        </tr>\n",
              "        <tr>\n",
              "            <td>Filecoin</td>\n",
              "            <td>190.86</td>\n",
              "            <td>31/03/2021</td>\n",
              "        </tr>\n",
              "        <tr>\n",
              "            <td>PancakeSwap</td>\n",
              "            <td>42.68</td>\n",
              "            <td>29/04/2021</td>\n",
              "        </tr>\n",
              "        <tr>\n",
              "            <td>EOS</td>\n",
              "            <td>21.4178</td>\n",
              "            <td>29/04/2018</td>\n",
              "        </tr>\n",
              "        <tr>\n",
              "            <td>Uniswap</td>\n",
              "            <td>42.837</td>\n",
              "            <td>28/04/2021</td>\n",
              "        </tr>\n",
              "        <tr>\n",
              "            <td>Klaytn</td>\n",
              "            <td>2.49</td>\n",
              "            <td>26/04/2021</td>\n",
              "        </tr>\n",
              "        <tr>\n",
              "            <td>Axie_Infinity</td>\n",
              "            <td>77.3631</td>\n",
              "            <td>23/08/2021</td>\n",
              "        </tr>\n",
              "        <tr>\n",
              "            <td>Cardano</td>\n",
              "            <td>2.915319</td>\n",
              "            <td>23/08/2021</td>\n",
              "        </tr>\n",
              "        <tr>\n",
              "            <td>VeChain</td>\n",
              "            <td>8.168</td>\n",
              "            <td>22/01/2018</td>\n",
              "        </tr>\n",
              "        <tr>\n",
              "            <td>Bitcoin_Cash</td>\n",
              "            <td>3708.9</td>\n",
              "            <td>20/12/2017</td>\n",
              "        </tr>\n",
              "        <tr>\n",
              "            <td>Dash</td>\n",
              "            <td>1432.5</td>\n",
              "            <td>20/12/2017</td>\n",
              "        </tr>\n",
              "        <tr>\n",
              "            <td>Solana</td>\n",
              "            <td>78.542</td>\n",
              "            <td>20/08/2021</td>\n",
              "        </tr>\n",
              "        <tr>\n",
              "            <td>IOTA</td>\n",
              "            <td>5.32</td>\n",
              "            <td>19/12/2017</td>\n",
              "        </tr>\n",
              "        <tr>\n",
              "            <td>Aave</td>\n",
              "            <td>629.38</td>\n",
              "            <td>18/05/2021</td>\n",
              "        </tr>\n",
              "        <tr>\n",
              "            <td>Polygon</td>\n",
              "            <td>2.45004</td>\n",
              "            <td>18/05/2021</td>\n",
              "        </tr>\n",
              "        <tr>\n",
              "            <td>Algorand</td>\n",
              "            <td>1.6957</td>\n",
              "            <td>17/04/2021</td>\n",
              "        </tr>\n",
              "        <tr>\n",
              "            <td>Bitcoin_SV</td>\n",
              "            <td>440.25</td>\n",
              "            <td>16/04/2021</td>\n",
              "        </tr>\n",
              "        <tr>\n",
              "            <td>THETA</td>\n",
              "            <td>14.1949</td>\n",
              "            <td>16/04/2021</td>\n",
              "        </tr>\n",
              "        <tr>\n",
              "            <td>Crypto.com_Coin</td>\n",
              "            <td>0.2455</td>\n",
              "            <td>15/04/2021</td>\n",
              "        </tr>\n",
              "        <tr>\n",
              "            <td>Neo</td>\n",
              "            <td>189.45</td>\n",
              "            <td>15/01/2018</td>\n",
              "        </tr>\n",
              "        <tr>\n",
              "            <td>ICP</td>\n",
              "            <td>304.01</td>\n",
              "            <td>14/05/2021</td>\n",
              "        </tr>\n",
              "        <tr>\n",
              "            <td>Kusama</td>\n",
              "            <td>595.29</td>\n",
              "            <td>14/05/2021</td>\n",
              "        </tr>\n",
              "        <tr>\n",
              "            <td>Polkadot</td>\n",
              "            <td>48.075</td>\n",
              "            <td>14/05/2021</td>\n",
              "        </tr>\n",
              "        <tr>\n",
              "            <td>SHIBA_INU</td>\n",
              "            <td>2.1e-05</td>\n",
              "            <td>13/05/2021</td>\n",
              "        </tr>\n",
              "        <tr>\n",
              "            <td>Bitcoin</td>\n",
              "            <td>63540.9</td>\n",
              "            <td>13/04/2021</td>\n",
              "        </tr>\n",
              "    </tbody>\n",
              "</table>"
            ]
          },
          "metadata": {},
          "execution_count": 15
        }
      ]
    },
    {
      "cell_type": "code",
      "source": [
        "%%sql\n",
        "SELECT Currency_Name AS name,\n",
        "        MIN(Price) AS price,\n",
        "        Date\n",
        "FROM crypto_2\n",
        "GROUP BY Currency_Name\n",
        "ORDER BY Date ASC\n",
        "LIMIT 25;"
      ],
      "metadata": {
        "colab": {
          "base_uri": "https://localhost:8080/",
          "height": 586
        },
        "id": "ou6VmsNrtlqc",
        "outputId": "56472609-567d-4b34-a95c-088c47659f9a"
      },
      "execution_count": null,
      "outputs": [
        {
          "output_type": "stream",
          "name": "stdout",
          "text": [
            " * sqlite://\n",
            "Done.\n"
          ]
        },
        {
          "output_type": "execute_result",
          "data": {
            "text/plain": [
              "[('USD_Coin', 0.852092, '03/01/2019'),\n",
              " ('Ethereum', 6.7, '05/12/2016'),\n",
              " ('Litecoin', 3.5, '06/12/2016'),\n",
              " ('Tezos', 0.344, '06/12/2018'),\n",
              " ('Crypto.com_Coin', 0.0121, '07/02/2019'),\n",
              " ('Kusama', 31.314, '07/11/2020'),\n",
              " ('Uniswap', 2.475, '07/11/2020'),\n",
              " ('Filecoin', 2.73, '07/12/2018'),\n",
              " ('Maker', 0.0, '10/02/2018'),\n",
              " ('Stellar', 0.00172, '10/03/2017'),\n",
              " ('Waves', 0.5297, '10/12/2019'),\n",
              " ('Dai', 0.918, '11/04/2019'),\n",
              " ('GRT', 0.27762, '12/01/2021'),\n",
              " ('BitTorrent', 0.000178, '12/03/2020'),\n",
              " ('Cardano', 0.023222, '12/03/2020'),\n",
              " ('Cosmos', 1.6194, '12/03/2020'),\n",
              " ('Binance_Coin', 1.49, '12/11/2017'),\n",
              " ('Elrond', 0.01, '14/07/2020'),\n",
              " ('THETA', 0.0412, '14/12/2018'),\n",
              " ('Solana', 0.567, '15/06/2020'),\n",
              " ('Bitcoin_Cash', 78.35, '15/12/2018'),\n",
              " ('PancakeSwap', 7.206, '16/02/2021'),\n",
              " ('Algorand', 0.1265, '16/03/2020'),\n",
              " ('FTX_Token', 2.0147, '16/03/2020'),\n",
              " ('IOTA', 0.10951, '16/03/2020')]"
            ],
            "text/html": [
              "<table>\n",
              "    <thead>\n",
              "        <tr>\n",
              "            <th>name</th>\n",
              "            <th>price</th>\n",
              "            <th>Date</th>\n",
              "        </tr>\n",
              "    </thead>\n",
              "    <tbody>\n",
              "        <tr>\n",
              "            <td>USD_Coin</td>\n",
              "            <td>0.852092</td>\n",
              "            <td>03/01/2019</td>\n",
              "        </tr>\n",
              "        <tr>\n",
              "            <td>Ethereum</td>\n",
              "            <td>6.7</td>\n",
              "            <td>05/12/2016</td>\n",
              "        </tr>\n",
              "        <tr>\n",
              "            <td>Litecoin</td>\n",
              "            <td>3.5</td>\n",
              "            <td>06/12/2016</td>\n",
              "        </tr>\n",
              "        <tr>\n",
              "            <td>Tezos</td>\n",
              "            <td>0.344</td>\n",
              "            <td>06/12/2018</td>\n",
              "        </tr>\n",
              "        <tr>\n",
              "            <td>Crypto.com_Coin</td>\n",
              "            <td>0.0121</td>\n",
              "            <td>07/02/2019</td>\n",
              "        </tr>\n",
              "        <tr>\n",
              "            <td>Kusama</td>\n",
              "            <td>31.314</td>\n",
              "            <td>07/11/2020</td>\n",
              "        </tr>\n",
              "        <tr>\n",
              "            <td>Uniswap</td>\n",
              "            <td>2.475</td>\n",
              "            <td>07/11/2020</td>\n",
              "        </tr>\n",
              "        <tr>\n",
              "            <td>Filecoin</td>\n",
              "            <td>2.73</td>\n",
              "            <td>07/12/2018</td>\n",
              "        </tr>\n",
              "        <tr>\n",
              "            <td>Maker</td>\n",
              "            <td>0.0</td>\n",
              "            <td>10/02/2018</td>\n",
              "        </tr>\n",
              "        <tr>\n",
              "            <td>Stellar</td>\n",
              "            <td>0.00172</td>\n",
              "            <td>10/03/2017</td>\n",
              "        </tr>\n",
              "        <tr>\n",
              "            <td>Waves</td>\n",
              "            <td>0.5297</td>\n",
              "            <td>10/12/2019</td>\n",
              "        </tr>\n",
              "        <tr>\n",
              "            <td>Dai</td>\n",
              "            <td>0.918</td>\n",
              "            <td>11/04/2019</td>\n",
              "        </tr>\n",
              "        <tr>\n",
              "            <td>GRT</td>\n",
              "            <td>0.27762</td>\n",
              "            <td>12/01/2021</td>\n",
              "        </tr>\n",
              "        <tr>\n",
              "            <td>BitTorrent</td>\n",
              "            <td>0.000178</td>\n",
              "            <td>12/03/2020</td>\n",
              "        </tr>\n",
              "        <tr>\n",
              "            <td>Cardano</td>\n",
              "            <td>0.023222</td>\n",
              "            <td>12/03/2020</td>\n",
              "        </tr>\n",
              "        <tr>\n",
              "            <td>Cosmos</td>\n",
              "            <td>1.6194</td>\n",
              "            <td>12/03/2020</td>\n",
              "        </tr>\n",
              "        <tr>\n",
              "            <td>Binance_Coin</td>\n",
              "            <td>1.49</td>\n",
              "            <td>12/11/2017</td>\n",
              "        </tr>\n",
              "        <tr>\n",
              "            <td>Elrond</td>\n",
              "            <td>0.01</td>\n",
              "            <td>14/07/2020</td>\n",
              "        </tr>\n",
              "        <tr>\n",
              "            <td>THETA</td>\n",
              "            <td>0.0412</td>\n",
              "            <td>14/12/2018</td>\n",
              "        </tr>\n",
              "        <tr>\n",
              "            <td>Solana</td>\n",
              "            <td>0.567</td>\n",
              "            <td>15/06/2020</td>\n",
              "        </tr>\n",
              "        <tr>\n",
              "            <td>Bitcoin_Cash</td>\n",
              "            <td>78.35</td>\n",
              "            <td>15/12/2018</td>\n",
              "        </tr>\n",
              "        <tr>\n",
              "            <td>PancakeSwap</td>\n",
              "            <td>7.206</td>\n",
              "            <td>16/02/2021</td>\n",
              "        </tr>\n",
              "        <tr>\n",
              "            <td>Algorand</td>\n",
              "            <td>0.1265</td>\n",
              "            <td>16/03/2020</td>\n",
              "        </tr>\n",
              "        <tr>\n",
              "            <td>FTX_Token</td>\n",
              "            <td>2.0147</td>\n",
              "            <td>16/03/2020</td>\n",
              "        </tr>\n",
              "        <tr>\n",
              "            <td>IOTA</td>\n",
              "            <td>0.10951</td>\n",
              "            <td>16/03/2020</td>\n",
              "        </tr>\n",
              "    </tbody>\n",
              "</table>"
            ]
          },
          "metadata": {},
          "execution_count": 16
        }
      ]
    },
    {
      "cell_type": "code",
      "source": [
        ""
      ],
      "metadata": {
        "id": "3DhbNzOc6AQ-"
      },
      "execution_count": null,
      "outputs": []
    }
  ]
}
{
  "nbformat": 4,
  "nbformat_minor": 0,
  "metadata": {
    "colab": {
      "name": "cryptocurrencies_2sql/python.ipynb",
      "provenance": [],
      "toc_visible": true,
      "collapsed_sections": [],
      "authorship_tag": "ABX9TyPREq0pdC8qamEd6TRZCp0V",
      "include_colab_link": true
    },
    "kernelspec": {
      "name": "python3",
      "display_name": "Python 3"
    },
    "language_info": {
      "name": "python"
    }
  },
  "cells": [
    {
      "cell_type": "markdown",
      "metadata": {
        "id": "view-in-github",
        "colab_type": "text"
      },
      "source": [
        "<a href=\"https://colab.research.google.com/github/Eswa2020/crypto_analysis/blob/main/cryptocurrencies_2sql_python.ipynb\" target=\"_parent\"><img src=\"https://colab.research.google.com/assets/colab-badge.svg\" alt=\"Open In Colab\"/></a>"
      ]
    },
    {
      "cell_type": "markdown",
      "source": [
        "##1.Business Understanding\n",
        "It’s an appealingly simple concept: cryptocurrency is digital money that allows for secure peer-to-peer transactions on the internet.\n",
        "\n",
        "\n",
        "Advantage of cryptocurrencies is that they are decentralized: any two people, anywhere in the world, can send bitcoin to each other without the involvement of a bank, government, or other institution\n",
        "\n",
        "When you hold cryptocoin, you control it through a private key—a string of randomized numbers and letters that unlocks a virtual vault containing your purchase. Each private key is tracked on the virtual ledger called the blockchain.\n",
        "\n",
        "Every transaction involving e.g Bitcoin is tracked on the blockchain, which is similar to a bank’s ledger, or log of customers’ funds going in and out of the bank.\n",
        "\n",
        "In simple terms, it’s a record of every transaction ever made using cryptocurrencies.\n",
        "\n",
        "Unlike a bank’s ledger, the blockchain is distributed across the entire network. No company, country, or third party is in control of it; and anyone can become part of that network."
      ],
      "metadata": {
        "id": "HdqSZbVhdB0K"
      }
    },
    {
      "cell_type": "markdown",
      "source": [
        "##2.Data Understanding\n",
        "\n",
        "With the same data understanding as with the first crypto notebook I decided to use the same data but use a different language to Query my results.\n",
        "\n",
        "By now I have done further business Research as mentioned above and discovered that history price Patterns does not affect crypto future price changes.And prediction done used on historical patterns would be falcy.\n",
        "\n"
      ],
      "metadata": {
        "id": "kx4SmKp-dPxd"
      }
    },
    {
      "cell_type": "markdown",
      "source": [
        "##3.Research Questions"
      ],
      "metadata": {
        "id": "5aBOoFU3faAp"
      }
    },
    {
      "cell_type": "markdown",
      "source": [
        "\n",
        "\n",
        "*   What's the hottest coin Right now?\n",
        "*   What was the hottest coin 5 YEARS AGO?\n",
        "*   What is the highest price coin Right now?\n",
        "*   What is the lowest price coin Right now?\n",
        "*   What is the Highest market value from 2020?\n",
        "*   What is the Lowest market value from 2020?\n",
        "*   Which coin has the Highest price change Right now?\n",
        "*   Which coin has the lowest price change since 2020?\n",
        "*   whats the volume history of the highest coin Right now?\n",
        "*   Whats the volume history of the lowest coin Right now?\n",
        "*   Whats the volume pattern of the first 10 high market value coins?\n",
        "*   Whats the pattern volume of the last 10 worst markets value coins?\n",
        "\n",
        "---\n",
        "\n",
        "\n",
        "\n",
        "\n"
      ],
      "metadata": {
        "id": "lOPaz3hzfeW9"
      }
    },
    {
      "cell_type": "markdown",
      "source": [
        "## 4.Import Libraries and load datasets"
      ],
      "metadata": {
        "id": "bels2oOsnSR8"
      }
    },
    {
      "cell_type": "code",
      "source": [
        "#importimg our libraries to use\n",
        "import numpy as np\n",
        "import pandas as pd\n",
        "import seaborn as sns\n",
        "import matplotlib.pyplot as plt\n",
        "import plotly.express as px\n",
        "from datetime import datetime\n",
        "%matplotlib inline"
      ],
      "metadata": {
        "id": "rD0cteKSndZJ"
      },
      "execution_count": 1,
      "outputs": []
    },
    {
      "cell_type": "code",
      "source": [
        "#let's load the crypto dataset \n",
        "crypto=pd.read_csv(\"/content/All_combined.csv\")\n",
        "crypto.head()"
      ],
      "metadata": {
        "colab": {
          "base_uri": "https://localhost:8080/",
          "height": 206
        },
        "id": "OhHjHBJpnj30",
        "outputId": "55eb7907-1808-49d3-a928-40630aa0a39d"
      },
      "execution_count": 2,
      "outputs": [
        {
          "output_type": "execute_result",
          "data": {
            "text/plain": [
              "  Currency_Name        Date  Price  Open  High   Low       Vol.  Change %\n",
              "0          Aave  30/01/2018   0.15  0.17  0.17  0.14   530470.0     -7.95\n",
              "1          Aave  31/01/2018   0.14  0.15  0.15  0.13   396050.0    -11.10\n",
              "2          Aave  01/02/2018   0.11  0.14  0.14  0.11   987260.0    -17.46\n",
              "3          Aave  02/02/2018   0.10  0.11  0.11  0.08  1810000.0     -8.32\n",
              "4          Aave  03/02/2018   0.11  0.10  0.12  0.09  1200000.0      6.85"
            ],
            "text/html": [
              "\n",
              "  <div id=\"df-e96a2be1-6c6a-494d-9bc1-d658775bfc4d\">\n",
              "    <div class=\"colab-df-container\">\n",
              "      <div>\n",
              "<style scoped>\n",
              "    .dataframe tbody tr th:only-of-type {\n",
              "        vertical-align: middle;\n",
              "    }\n",
              "\n",
              "    .dataframe tbody tr th {\n",
              "        vertical-align: top;\n",
              "    }\n",
              "\n",
              "    .dataframe thead th {\n",
              "        text-align: right;\n",
              "    }\n",
              "</style>\n",
              "<table border=\"1\" class=\"dataframe\">\n",
              "  <thead>\n",
              "    <tr style=\"text-align: right;\">\n",
              "      <th></th>\n",
              "      <th>Currency_Name</th>\n",
              "      <th>Date</th>\n",
              "      <th>Price</th>\n",
              "      <th>Open</th>\n",
              "      <th>High</th>\n",
              "      <th>Low</th>\n",
              "      <th>Vol.</th>\n",
              "      <th>Change %</th>\n",
              "    </tr>\n",
              "  </thead>\n",
              "  <tbody>\n",
              "    <tr>\n",
              "      <th>0</th>\n",
              "      <td>Aave</td>\n",
              "      <td>30/01/2018</td>\n",
              "      <td>0.15</td>\n",
              "      <td>0.17</td>\n",
              "      <td>0.17</td>\n",
              "      <td>0.14</td>\n",
              "      <td>530470.0</td>\n",
              "      <td>-7.95</td>\n",
              "    </tr>\n",
              "    <tr>\n",
              "      <th>1</th>\n",
              "      <td>Aave</td>\n",
              "      <td>31/01/2018</td>\n",
              "      <td>0.14</td>\n",
              "      <td>0.15</td>\n",
              "      <td>0.15</td>\n",
              "      <td>0.13</td>\n",
              "      <td>396050.0</td>\n",
              "      <td>-11.10</td>\n",
              "    </tr>\n",
              "    <tr>\n",
              "      <th>2</th>\n",
              "      <td>Aave</td>\n",
              "      <td>01/02/2018</td>\n",
              "      <td>0.11</td>\n",
              "      <td>0.14</td>\n",
              "      <td>0.14</td>\n",
              "      <td>0.11</td>\n",
              "      <td>987260.0</td>\n",
              "      <td>-17.46</td>\n",
              "    </tr>\n",
              "    <tr>\n",
              "      <th>3</th>\n",
              "      <td>Aave</td>\n",
              "      <td>02/02/2018</td>\n",
              "      <td>0.10</td>\n",
              "      <td>0.11</td>\n",
              "      <td>0.11</td>\n",
              "      <td>0.08</td>\n",
              "      <td>1810000.0</td>\n",
              "      <td>-8.32</td>\n",
              "    </tr>\n",
              "    <tr>\n",
              "      <th>4</th>\n",
              "      <td>Aave</td>\n",
              "      <td>03/02/2018</td>\n",
              "      <td>0.11</td>\n",
              "      <td>0.10</td>\n",
              "      <td>0.12</td>\n",
              "      <td>0.09</td>\n",
              "      <td>1200000.0</td>\n",
              "      <td>6.85</td>\n",
              "    </tr>\n",
              "  </tbody>\n",
              "</table>\n",
              "</div>\n",
              "      <button class=\"colab-df-convert\" onclick=\"convertToInteractive('df-e96a2be1-6c6a-494d-9bc1-d658775bfc4d')\"\n",
              "              title=\"Convert this dataframe to an interactive table.\"\n",
              "              style=\"display:none;\">\n",
              "        \n",
              "  <svg xmlns=\"http://www.w3.org/2000/svg\" height=\"24px\"viewBox=\"0 0 24 24\"\n",
              "       width=\"24px\">\n",
              "    <path d=\"M0 0h24v24H0V0z\" fill=\"none\"/>\n",
              "    <path d=\"M18.56 5.44l.94 2.06.94-2.06 2.06-.94-2.06-.94-.94-2.06-.94 2.06-2.06.94zm-11 1L8.5 8.5l.94-2.06 2.06-.94-2.06-.94L8.5 2.5l-.94 2.06-2.06.94zm10 10l.94 2.06.94-2.06 2.06-.94-2.06-.94-.94-2.06-.94 2.06-2.06.94z\"/><path d=\"M17.41 7.96l-1.37-1.37c-.4-.4-.92-.59-1.43-.59-.52 0-1.04.2-1.43.59L10.3 9.45l-7.72 7.72c-.78.78-.78 2.05 0 2.83L4 21.41c.39.39.9.59 1.41.59.51 0 1.02-.2 1.41-.59l7.78-7.78 2.81-2.81c.8-.78.8-2.07 0-2.86zM5.41 20L4 18.59l7.72-7.72 1.47 1.35L5.41 20z\"/>\n",
              "  </svg>\n",
              "      </button>\n",
              "      \n",
              "  <style>\n",
              "    .colab-df-container {\n",
              "      display:flex;\n",
              "      flex-wrap:wrap;\n",
              "      gap: 12px;\n",
              "    }\n",
              "\n",
              "    .colab-df-convert {\n",
              "      background-color: #E8F0FE;\n",
              "      border: none;\n",
              "      border-radius: 50%;\n",
              "      cursor: pointer;\n",
              "      display: none;\n",
              "      fill: #1967D2;\n",
              "      height: 32px;\n",
              "      padding: 0 0 0 0;\n",
              "      width: 32px;\n",
              "    }\n",
              "\n",
              "    .colab-df-convert:hover {\n",
              "      background-color: #E2EBFA;\n",
              "      box-shadow: 0px 1px 2px rgba(60, 64, 67, 0.3), 0px 1px 3px 1px rgba(60, 64, 67, 0.15);\n",
              "      fill: #174EA6;\n",
              "    }\n",
              "\n",
              "    [theme=dark] .colab-df-convert {\n",
              "      background-color: #3B4455;\n",
              "      fill: #D2E3FC;\n",
              "    }\n",
              "\n",
              "    [theme=dark] .colab-df-convert:hover {\n",
              "      background-color: #434B5C;\n",
              "      box-shadow: 0px 1px 3px 1px rgba(0, 0, 0, 0.15);\n",
              "      filter: drop-shadow(0px 1px 2px rgba(0, 0, 0, 0.3));\n",
              "      fill: #FFFFFF;\n",
              "    }\n",
              "  </style>\n",
              "\n",
              "      <script>\n",
              "        const buttonEl =\n",
              "          document.querySelector('#df-e96a2be1-6c6a-494d-9bc1-d658775bfc4d button.colab-df-convert');\n",
              "        buttonEl.style.display =\n",
              "          google.colab.kernel.accessAllowed ? 'block' : 'none';\n",
              "\n",
              "        async function convertToInteractive(key) {\n",
              "          const element = document.querySelector('#df-e96a2be1-6c6a-494d-9bc1-d658775bfc4d');\n",
              "          const dataTable =\n",
              "            await google.colab.kernel.invokeFunction('convertToInteractive',\n",
              "                                                     [key], {});\n",
              "          if (!dataTable) return;\n",
              "\n",
              "          const docLinkHtml = 'Like what you see? Visit the ' +\n",
              "            '<a target=\"_blank\" href=https://colab.research.google.com/notebooks/data_table.ipynb>data table notebook</a>'\n",
              "            + ' to learn more about interactive tables.';\n",
              "          element.innerHTML = '';\n",
              "          dataTable['output_type'] = 'display_data';\n",
              "          await google.colab.output.renderOutput(dataTable, element);\n",
              "          const docLink = document.createElement('div');\n",
              "          docLink.innerHTML = docLinkHtml;\n",
              "          element.appendChild(docLink);\n",
              "        }\n",
              "      </script>\n",
              "    </div>\n",
              "  </div>\n",
              "  "
            ]
          },
          "metadata": {},
          "execution_count": 2
        }
      ]
    },
    {
      "cell_type": "markdown",
      "source": [
        "##5.Explore the crypto Dataset"
      ],
      "metadata": {
        "id": "f7dHXZ8Wnq-z"
      }
    },
    {
      "cell_type": "code",
      "source": [
        "#let's load the crypto dataset \n",
        "crypto=pd.read_csv(\"/content/All_combined.csv\")\n",
        "crypto.head()"
      ],
      "metadata": {
        "colab": {
          "base_uri": "https://localhost:8080/",
          "height": 206
        },
        "id": "aWZnm1Dlnxbs",
        "outputId": "54d59cef-2ac3-4360-e1ed-e6a5af16d50f"
      },
      "execution_count": 3,
      "outputs": [
        {
          "output_type": "execute_result",
          "data": {
            "text/plain": [
              "  Currency_Name        Date  Price  Open  High   Low       Vol.  Change %\n",
              "0          Aave  30/01/2018   0.15  0.17  0.17  0.14   530470.0     -7.95\n",
              "1          Aave  31/01/2018   0.14  0.15  0.15  0.13   396050.0    -11.10\n",
              "2          Aave  01/02/2018   0.11  0.14  0.14  0.11   987260.0    -17.46\n",
              "3          Aave  02/02/2018   0.10  0.11  0.11  0.08  1810000.0     -8.32\n",
              "4          Aave  03/02/2018   0.11  0.10  0.12  0.09  1200000.0      6.85"
            ],
            "text/html": [
              "\n",
              "  <div id=\"df-189848fc-fa5e-4b4b-813b-6bf60a2cfc01\">\n",
              "    <div class=\"colab-df-container\">\n",
              "      <div>\n",
              "<style scoped>\n",
              "    .dataframe tbody tr th:only-of-type {\n",
              "        vertical-align: middle;\n",
              "    }\n",
              "\n",
              "    .dataframe tbody tr th {\n",
              "        vertical-align: top;\n",
              "    }\n",
              "\n",
              "    .dataframe thead th {\n",
              "        text-align: right;\n",
              "    }\n",
              "</style>\n",
              "<table border=\"1\" class=\"dataframe\">\n",
              "  <thead>\n",
              "    <tr style=\"text-align: right;\">\n",
              "      <th></th>\n",
              "      <th>Currency_Name</th>\n",
              "      <th>Date</th>\n",
              "      <th>Price</th>\n",
              "      <th>Open</th>\n",
              "      <th>High</th>\n",
              "      <th>Low</th>\n",
              "      <th>Vol.</th>\n",
              "      <th>Change %</th>\n",
              "    </tr>\n",
              "  </thead>\n",
              "  <tbody>\n",
              "    <tr>\n",
              "      <th>0</th>\n",
              "      <td>Aave</td>\n",
              "      <td>30/01/2018</td>\n",
              "      <td>0.15</td>\n",
              "      <td>0.17</td>\n",
              "      <td>0.17</td>\n",
              "      <td>0.14</td>\n",
              "      <td>530470.0</td>\n",
              "      <td>-7.95</td>\n",
              "    </tr>\n",
              "    <tr>\n",
              "      <th>1</th>\n",
              "      <td>Aave</td>\n",
              "      <td>31/01/2018</td>\n",
              "      <td>0.14</td>\n",
              "      <td>0.15</td>\n",
              "      <td>0.15</td>\n",
              "      <td>0.13</td>\n",
              "      <td>396050.0</td>\n",
              "      <td>-11.10</td>\n",
              "    </tr>\n",
              "    <tr>\n",
              "      <th>2</th>\n",
              "      <td>Aave</td>\n",
              "      <td>01/02/2018</td>\n",
              "      <td>0.11</td>\n",
              "      <td>0.14</td>\n",
              "      <td>0.14</td>\n",
              "      <td>0.11</td>\n",
              "      <td>987260.0</td>\n",
              "      <td>-17.46</td>\n",
              "    </tr>\n",
              "    <tr>\n",
              "      <th>3</th>\n",
              "      <td>Aave</td>\n",
              "      <td>02/02/2018</td>\n",
              "      <td>0.10</td>\n",
              "      <td>0.11</td>\n",
              "      <td>0.11</td>\n",
              "      <td>0.08</td>\n",
              "      <td>1810000.0</td>\n",
              "      <td>-8.32</td>\n",
              "    </tr>\n",
              "    <tr>\n",
              "      <th>4</th>\n",
              "      <td>Aave</td>\n",
              "      <td>03/02/2018</td>\n",
              "      <td>0.11</td>\n",
              "      <td>0.10</td>\n",
              "      <td>0.12</td>\n",
              "      <td>0.09</td>\n",
              "      <td>1200000.0</td>\n",
              "      <td>6.85</td>\n",
              "    </tr>\n",
              "  </tbody>\n",
              "</table>\n",
              "</div>\n",
              "      <button class=\"colab-df-convert\" onclick=\"convertToInteractive('df-189848fc-fa5e-4b4b-813b-6bf60a2cfc01')\"\n",
              "              title=\"Convert this dataframe to an interactive table.\"\n",
              "              style=\"display:none;\">\n",
              "        \n",
              "  <svg xmlns=\"http://www.w3.org/2000/svg\" height=\"24px\"viewBox=\"0 0 24 24\"\n",
              "       width=\"24px\">\n",
              "    <path d=\"M0 0h24v24H0V0z\" fill=\"none\"/>\n",
              "    <path d=\"M18.56 5.44l.94 2.06.94-2.06 2.06-.94-2.06-.94-.94-2.06-.94 2.06-2.06.94zm-11 1L8.5 8.5l.94-2.06 2.06-.94-2.06-.94L8.5 2.5l-.94 2.06-2.06.94zm10 10l.94 2.06.94-2.06 2.06-.94-2.06-.94-.94-2.06-.94 2.06-2.06.94z\"/><path d=\"M17.41 7.96l-1.37-1.37c-.4-.4-.92-.59-1.43-.59-.52 0-1.04.2-1.43.59L10.3 9.45l-7.72 7.72c-.78.78-.78 2.05 0 2.83L4 21.41c.39.39.9.59 1.41.59.51 0 1.02-.2 1.41-.59l7.78-7.78 2.81-2.81c.8-.78.8-2.07 0-2.86zM5.41 20L4 18.59l7.72-7.72 1.47 1.35L5.41 20z\"/>\n",
              "  </svg>\n",
              "      </button>\n",
              "      \n",
              "  <style>\n",
              "    .colab-df-container {\n",
              "      display:flex;\n",
              "      flex-wrap:wrap;\n",
              "      gap: 12px;\n",
              "    }\n",
              "\n",
              "    .colab-df-convert {\n",
              "      background-color: #E8F0FE;\n",
              "      border: none;\n",
              "      border-radius: 50%;\n",
              "      cursor: pointer;\n",
              "      display: none;\n",
              "      fill: #1967D2;\n",
              "      height: 32px;\n",
              "      padding: 0 0 0 0;\n",
              "      width: 32px;\n",
              "    }\n",
              "\n",
              "    .colab-df-convert:hover {\n",
              "      background-color: #E2EBFA;\n",
              "      box-shadow: 0px 1px 2px rgba(60, 64, 67, 0.3), 0px 1px 3px 1px rgba(60, 64, 67, 0.15);\n",
              "      fill: #174EA6;\n",
              "    }\n",
              "\n",
              "    [theme=dark] .colab-df-convert {\n",
              "      background-color: #3B4455;\n",
              "      fill: #D2E3FC;\n",
              "    }\n",
              "\n",
              "    [theme=dark] .colab-df-convert:hover {\n",
              "      background-color: #434B5C;\n",
              "      box-shadow: 0px 1px 3px 1px rgba(0, 0, 0, 0.15);\n",
              "      filter: drop-shadow(0px 1px 2px rgba(0, 0, 0, 0.3));\n",
              "      fill: #FFFFFF;\n",
              "    }\n",
              "  </style>\n",
              "\n",
              "      <script>\n",
              "        const buttonEl =\n",
              "          document.querySelector('#df-189848fc-fa5e-4b4b-813b-6bf60a2cfc01 button.colab-df-convert');\n",
              "        buttonEl.style.display =\n",
              "          google.colab.kernel.accessAllowed ? 'block' : 'none';\n",
              "\n",
              "        async function convertToInteractive(key) {\n",
              "          const element = document.querySelector('#df-189848fc-fa5e-4b4b-813b-6bf60a2cfc01');\n",
              "          const dataTable =\n",
              "            await google.colab.kernel.invokeFunction('convertToInteractive',\n",
              "                                                     [key], {});\n",
              "          if (!dataTable) return;\n",
              "\n",
              "          const docLinkHtml = 'Like what you see? Visit the ' +\n",
              "            '<a target=\"_blank\" href=https://colab.research.google.com/notebooks/data_table.ipynb>data table notebook</a>'\n",
              "            + ' to learn more about interactive tables.';\n",
              "          element.innerHTML = '';\n",
              "          dataTable['output_type'] = 'display_data';\n",
              "          await google.colab.output.renderOutput(dataTable, element);\n",
              "          const docLink = document.createElement('div');\n",
              "          docLink.innerHTML = docLinkHtml;\n",
              "          element.appendChild(docLink);\n",
              "        }\n",
              "      </script>\n",
              "    </div>\n",
              "  </div>\n",
              "  "
            ]
          },
          "metadata": {},
          "execution_count": 3
        }
      ]
    },
    {
      "cell_type": "code",
      "source": [
        "#we the first column number\n",
        "crypto.head()"
      ],
      "metadata": {
        "colab": {
          "base_uri": "https://localhost:8080/",
          "height": 206
        },
        "id": "QcTCCqfhn1g5",
        "outputId": "75801e61-a628-468b-e869-39b734f392c0"
      },
      "execution_count": 3,
      "outputs": [
        {
          "output_type": "execute_result",
          "data": {
            "text/plain": [
              "  Currency_Name        Date  Price  Open  High   Low       Vol.  Change %\n",
              "0          Aave  30/01/2018   0.15  0.17  0.17  0.14   530470.0     -7.95\n",
              "1          Aave  31/01/2018   0.14  0.15  0.15  0.13   396050.0    -11.10\n",
              "2          Aave  01/02/2018   0.11  0.14  0.14  0.11   987260.0    -17.46\n",
              "3          Aave  02/02/2018   0.10  0.11  0.11  0.08  1810000.0     -8.32\n",
              "4          Aave  03/02/2018   0.11  0.10  0.12  0.09  1200000.0      6.85"
            ],
            "text/html": [
              "\n",
              "  <div id=\"df-92711832-13c7-427b-b963-3dc174aa9a7b\">\n",
              "    <div class=\"colab-df-container\">\n",
              "      <div>\n",
              "<style scoped>\n",
              "    .dataframe tbody tr th:only-of-type {\n",
              "        vertical-align: middle;\n",
              "    }\n",
              "\n",
              "    .dataframe tbody tr th {\n",
              "        vertical-align: top;\n",
              "    }\n",
              "\n",
              "    .dataframe thead th {\n",
              "        text-align: right;\n",
              "    }\n",
              "</style>\n",
              "<table border=\"1\" class=\"dataframe\">\n",
              "  <thead>\n",
              "    <tr style=\"text-align: right;\">\n",
              "      <th></th>\n",
              "      <th>Currency_Name</th>\n",
              "      <th>Date</th>\n",
              "      <th>Price</th>\n",
              "      <th>Open</th>\n",
              "      <th>High</th>\n",
              "      <th>Low</th>\n",
              "      <th>Vol.</th>\n",
              "      <th>Change %</th>\n",
              "    </tr>\n",
              "  </thead>\n",
              "  <tbody>\n",
              "    <tr>\n",
              "      <th>0</th>\n",
              "      <td>Aave</td>\n",
              "      <td>30/01/2018</td>\n",
              "      <td>0.15</td>\n",
              "      <td>0.17</td>\n",
              "      <td>0.17</td>\n",
              "      <td>0.14</td>\n",
              "      <td>530470.0</td>\n",
              "      <td>-7.95</td>\n",
              "    </tr>\n",
              "    <tr>\n",
              "      <th>1</th>\n",
              "      <td>Aave</td>\n",
              "      <td>31/01/2018</td>\n",
              "      <td>0.14</td>\n",
              "      <td>0.15</td>\n",
              "      <td>0.15</td>\n",
              "      <td>0.13</td>\n",
              "      <td>396050.0</td>\n",
              "      <td>-11.10</td>\n",
              "    </tr>\n",
              "    <tr>\n",
              "      <th>2</th>\n",
              "      <td>Aave</td>\n",
              "      <td>01/02/2018</td>\n",
              "      <td>0.11</td>\n",
              "      <td>0.14</td>\n",
              "      <td>0.14</td>\n",
              "      <td>0.11</td>\n",
              "      <td>987260.0</td>\n",
              "      <td>-17.46</td>\n",
              "    </tr>\n",
              "    <tr>\n",
              "      <th>3</th>\n",
              "      <td>Aave</td>\n",
              "      <td>02/02/2018</td>\n",
              "      <td>0.10</td>\n",
              "      <td>0.11</td>\n",
              "      <td>0.11</td>\n",
              "      <td>0.08</td>\n",
              "      <td>1810000.0</td>\n",
              "      <td>-8.32</td>\n",
              "    </tr>\n",
              "    <tr>\n",
              "      <th>4</th>\n",
              "      <td>Aave</td>\n",
              "      <td>03/02/2018</td>\n",
              "      <td>0.11</td>\n",
              "      <td>0.10</td>\n",
              "      <td>0.12</td>\n",
              "      <td>0.09</td>\n",
              "      <td>1200000.0</td>\n",
              "      <td>6.85</td>\n",
              "    </tr>\n",
              "  </tbody>\n",
              "</table>\n",
              "</div>\n",
              "      <button class=\"colab-df-convert\" onclick=\"convertToInteractive('df-92711832-13c7-427b-b963-3dc174aa9a7b')\"\n",
              "              title=\"Convert this dataframe to an interactive table.\"\n",
              "              style=\"display:none;\">\n",
              "        \n",
              "  <svg xmlns=\"http://www.w3.org/2000/svg\" height=\"24px\"viewBox=\"0 0 24 24\"\n",
              "       width=\"24px\">\n",
              "    <path d=\"M0 0h24v24H0V0z\" fill=\"none\"/>\n",
              "    <path d=\"M18.56 5.44l.94 2.06.94-2.06 2.06-.94-2.06-.94-.94-2.06-.94 2.06-2.06.94zm-11 1L8.5 8.5l.94-2.06 2.06-.94-2.06-.94L8.5 2.5l-.94 2.06-2.06.94zm10 10l.94 2.06.94-2.06 2.06-.94-2.06-.94-.94-2.06-.94 2.06-2.06.94z\"/><path d=\"M17.41 7.96l-1.37-1.37c-.4-.4-.92-.59-1.43-.59-.52 0-1.04.2-1.43.59L10.3 9.45l-7.72 7.72c-.78.78-.78 2.05 0 2.83L4 21.41c.39.39.9.59 1.41.59.51 0 1.02-.2 1.41-.59l7.78-7.78 2.81-2.81c.8-.78.8-2.07 0-2.86zM5.41 20L4 18.59l7.72-7.72 1.47 1.35L5.41 20z\"/>\n",
              "  </svg>\n",
              "      </button>\n",
              "      \n",
              "  <style>\n",
              "    .colab-df-container {\n",
              "      display:flex;\n",
              "      flex-wrap:wrap;\n",
              "      gap: 12px;\n",
              "    }\n",
              "\n",
              "    .colab-df-convert {\n",
              "      background-color: #E8F0FE;\n",
              "      border: none;\n",
              "      border-radius: 50%;\n",
              "      cursor: pointer;\n",
              "      display: none;\n",
              "      fill: #1967D2;\n",
              "      height: 32px;\n",
              "      padding: 0 0 0 0;\n",
              "      width: 32px;\n",
              "    }\n",
              "\n",
              "    .colab-df-convert:hover {\n",
              "      background-color: #E2EBFA;\n",
              "      box-shadow: 0px 1px 2px rgba(60, 64, 67, 0.3), 0px 1px 3px 1px rgba(60, 64, 67, 0.15);\n",
              "      fill: #174EA6;\n",
              "    }\n",
              "\n",
              "    [theme=dark] .colab-df-convert {\n",
              "      background-color: #3B4455;\n",
              "      fill: #D2E3FC;\n",
              "    }\n",
              "\n",
              "    [theme=dark] .colab-df-convert:hover {\n",
              "      background-color: #434B5C;\n",
              "      box-shadow: 0px 1px 3px 1px rgba(0, 0, 0, 0.15);\n",
              "      filter: drop-shadow(0px 1px 2px rgba(0, 0, 0, 0.3));\n",
              "      fill: #FFFFFF;\n",
              "    }\n",
              "  </style>\n",
              "\n",
              "      <script>\n",
              "        const buttonEl =\n",
              "          document.querySelector('#df-92711832-13c7-427b-b963-3dc174aa9a7b button.colab-df-convert');\n",
              "        buttonEl.style.display =\n",
              "          google.colab.kernel.accessAllowed ? 'block' : 'none';\n",
              "\n",
              "        async function convertToInteractive(key) {\n",
              "          const element = document.querySelector('#df-92711832-13c7-427b-b963-3dc174aa9a7b');\n",
              "          const dataTable =\n",
              "            await google.colab.kernel.invokeFunction('convertToInteractive',\n",
              "                                                     [key], {});\n",
              "          if (!dataTable) return;\n",
              "\n",
              "          const docLinkHtml = 'Like what you see? Visit the ' +\n",
              "            '<a target=\"_blank\" href=https://colab.research.google.com/notebooks/data_table.ipynb>data table notebook</a>'\n",
              "            + ' to learn more about interactive tables.';\n",
              "          element.innerHTML = '';\n",
              "          dataTable['output_type'] = 'display_data';\n",
              "          await google.colab.output.renderOutput(dataTable, element);\n",
              "          const docLink = document.createElement('div');\n",
              "          docLink.innerHTML = docLinkHtml;\n",
              "          element.appendChild(docLink);\n",
              "        }\n",
              "      </script>\n",
              "    </div>\n",
              "  </div>\n",
              "  "
            ]
          },
          "metadata": {},
          "execution_count": 3
        }
      ]
    },
    {
      "cell_type": "code",
      "source": [
        "#we the last column number\n",
        "crypto.tail()"
      ],
      "metadata": {
        "colab": {
          "base_uri": "https://localhost:8080/",
          "height": 206
        },
        "id": "z1fl9Onhn4NY",
        "outputId": "bc375218-3ca0-47e6-85cb-573f04864bc0"
      },
      "execution_count": 5,
      "outputs": [
        {
          "output_type": "execute_result",
          "data": {
            "text/plain": [
              "      Currency_Name        Date    Price     Open     High      Low  Vol.  \\\n",
              "53830           XPR  26/01/2015  0.01469  0.01700  0.01750  0.01469   0.0   \n",
              "53831           XPR  25/01/2015  0.01700  0.01739  0.01739  0.01560   0.0   \n",
              "53832           XPR  24/01/2015  0.01739  0.01600  0.01739  0.01500   0.0   \n",
              "53833           XPR  23/01/2015  0.01600  0.01602  0.01700  0.01600   0.0   \n",
              "53834           XPR  22/01/2015  0.01602  0.01523  0.01750  0.01523   0.0   \n",
              "\n",
              "       Change %  \n",
              "53830    -13.59  \n",
              "53831     -2.24  \n",
              "53832      8.69  \n",
              "53833     -0.12  \n",
              "53834      5.19  "
            ],
            "text/html": [
              "\n",
              "  <div id=\"df-d042d628-096f-4e9a-a684-f261fcd882da\">\n",
              "    <div class=\"colab-df-container\">\n",
              "      <div>\n",
              "<style scoped>\n",
              "    .dataframe tbody tr th:only-of-type {\n",
              "        vertical-align: middle;\n",
              "    }\n",
              "\n",
              "    .dataframe tbody tr th {\n",
              "        vertical-align: top;\n",
              "    }\n",
              "\n",
              "    .dataframe thead th {\n",
              "        text-align: right;\n",
              "    }\n",
              "</style>\n",
              "<table border=\"1\" class=\"dataframe\">\n",
              "  <thead>\n",
              "    <tr style=\"text-align: right;\">\n",
              "      <th></th>\n",
              "      <th>Currency_Name</th>\n",
              "      <th>Date</th>\n",
              "      <th>Price</th>\n",
              "      <th>Open</th>\n",
              "      <th>High</th>\n",
              "      <th>Low</th>\n",
              "      <th>Vol.</th>\n",
              "      <th>Change %</th>\n",
              "    </tr>\n",
              "  </thead>\n",
              "  <tbody>\n",
              "    <tr>\n",
              "      <th>53830</th>\n",
              "      <td>XPR</td>\n",
              "      <td>26/01/2015</td>\n",
              "      <td>0.01469</td>\n",
              "      <td>0.01700</td>\n",
              "      <td>0.01750</td>\n",
              "      <td>0.01469</td>\n",
              "      <td>0.0</td>\n",
              "      <td>-13.59</td>\n",
              "    </tr>\n",
              "    <tr>\n",
              "      <th>53831</th>\n",
              "      <td>XPR</td>\n",
              "      <td>25/01/2015</td>\n",
              "      <td>0.01700</td>\n",
              "      <td>0.01739</td>\n",
              "      <td>0.01739</td>\n",
              "      <td>0.01560</td>\n",
              "      <td>0.0</td>\n",
              "      <td>-2.24</td>\n",
              "    </tr>\n",
              "    <tr>\n",
              "      <th>53832</th>\n",
              "      <td>XPR</td>\n",
              "      <td>24/01/2015</td>\n",
              "      <td>0.01739</td>\n",
              "      <td>0.01600</td>\n",
              "      <td>0.01739</td>\n",
              "      <td>0.01500</td>\n",
              "      <td>0.0</td>\n",
              "      <td>8.69</td>\n",
              "    </tr>\n",
              "    <tr>\n",
              "      <th>53833</th>\n",
              "      <td>XPR</td>\n",
              "      <td>23/01/2015</td>\n",
              "      <td>0.01600</td>\n",
              "      <td>0.01602</td>\n",
              "      <td>0.01700</td>\n",
              "      <td>0.01600</td>\n",
              "      <td>0.0</td>\n",
              "      <td>-0.12</td>\n",
              "    </tr>\n",
              "    <tr>\n",
              "      <th>53834</th>\n",
              "      <td>XPR</td>\n",
              "      <td>22/01/2015</td>\n",
              "      <td>0.01602</td>\n",
              "      <td>0.01523</td>\n",
              "      <td>0.01750</td>\n",
              "      <td>0.01523</td>\n",
              "      <td>0.0</td>\n",
              "      <td>5.19</td>\n",
              "    </tr>\n",
              "  </tbody>\n",
              "</table>\n",
              "</div>\n",
              "      <button class=\"colab-df-convert\" onclick=\"convertToInteractive('df-d042d628-096f-4e9a-a684-f261fcd882da')\"\n",
              "              title=\"Convert this dataframe to an interactive table.\"\n",
              "              style=\"display:none;\">\n",
              "        \n",
              "  <svg xmlns=\"http://www.w3.org/2000/svg\" height=\"24px\"viewBox=\"0 0 24 24\"\n",
              "       width=\"24px\">\n",
              "    <path d=\"M0 0h24v24H0V0z\" fill=\"none\"/>\n",
              "    <path d=\"M18.56 5.44l.94 2.06.94-2.06 2.06-.94-2.06-.94-.94-2.06-.94 2.06-2.06.94zm-11 1L8.5 8.5l.94-2.06 2.06-.94-2.06-.94L8.5 2.5l-.94 2.06-2.06.94zm10 10l.94 2.06.94-2.06 2.06-.94-2.06-.94-.94-2.06-.94 2.06-2.06.94z\"/><path d=\"M17.41 7.96l-1.37-1.37c-.4-.4-.92-.59-1.43-.59-.52 0-1.04.2-1.43.59L10.3 9.45l-7.72 7.72c-.78.78-.78 2.05 0 2.83L4 21.41c.39.39.9.59 1.41.59.51 0 1.02-.2 1.41-.59l7.78-7.78 2.81-2.81c.8-.78.8-2.07 0-2.86zM5.41 20L4 18.59l7.72-7.72 1.47 1.35L5.41 20z\"/>\n",
              "  </svg>\n",
              "      </button>\n",
              "      \n",
              "  <style>\n",
              "    .colab-df-container {\n",
              "      display:flex;\n",
              "      flex-wrap:wrap;\n",
              "      gap: 12px;\n",
              "    }\n",
              "\n",
              "    .colab-df-convert {\n",
              "      background-color: #E8F0FE;\n",
              "      border: none;\n",
              "      border-radius: 50%;\n",
              "      cursor: pointer;\n",
              "      display: none;\n",
              "      fill: #1967D2;\n",
              "      height: 32px;\n",
              "      padding: 0 0 0 0;\n",
              "      width: 32px;\n",
              "    }\n",
              "\n",
              "    .colab-df-convert:hover {\n",
              "      background-color: #E2EBFA;\n",
              "      box-shadow: 0px 1px 2px rgba(60, 64, 67, 0.3), 0px 1px 3px 1px rgba(60, 64, 67, 0.15);\n",
              "      fill: #174EA6;\n",
              "    }\n",
              "\n",
              "    [theme=dark] .colab-df-convert {\n",
              "      background-color: #3B4455;\n",
              "      fill: #D2E3FC;\n",
              "    }\n",
              "\n",
              "    [theme=dark] .colab-df-convert:hover {\n",
              "      background-color: #434B5C;\n",
              "      box-shadow: 0px 1px 3px 1px rgba(0, 0, 0, 0.15);\n",
              "      filter: drop-shadow(0px 1px 2px rgba(0, 0, 0, 0.3));\n",
              "      fill: #FFFFFF;\n",
              "    }\n",
              "  </style>\n",
              "\n",
              "      <script>\n",
              "        const buttonEl =\n",
              "          document.querySelector('#df-d042d628-096f-4e9a-a684-f261fcd882da button.colab-df-convert');\n",
              "        buttonEl.style.display =\n",
              "          google.colab.kernel.accessAllowed ? 'block' : 'none';\n",
              "\n",
              "        async function convertToInteractive(key) {\n",
              "          const element = document.querySelector('#df-d042d628-096f-4e9a-a684-f261fcd882da');\n",
              "          const dataTable =\n",
              "            await google.colab.kernel.invokeFunction('convertToInteractive',\n",
              "                                                     [key], {});\n",
              "          if (!dataTable) return;\n",
              "\n",
              "          const docLinkHtml = 'Like what you see? Visit the ' +\n",
              "            '<a target=\"_blank\" href=https://colab.research.google.com/notebooks/data_table.ipynb>data table notebook</a>'\n",
              "            + ' to learn more about interactive tables.';\n",
              "          element.innerHTML = '';\n",
              "          dataTable['output_type'] = 'display_data';\n",
              "          await google.colab.output.renderOutput(dataTable, element);\n",
              "          const docLink = document.createElement('div');\n",
              "          docLink.innerHTML = docLinkHtml;\n",
              "          element.appendChild(docLink);\n",
              "        }\n",
              "      </script>\n",
              "    </div>\n",
              "  </div>\n",
              "  "
            ]
          },
          "metadata": {},
          "execution_count": 5
        }
      ]
    },
    {
      "cell_type": "code",
      "source": [
        "#check for duplicates\n",
        "print(crypto.duplicated().sum())"
      ],
      "metadata": {
        "colab": {
          "base_uri": "https://localhost:8080/"
        },
        "id": "V34ctMACoCBU",
        "outputId": "1ef96457-b41c-43f8-e285-9a97ac64e9df"
      },
      "execution_count": 6,
      "outputs": [
        {
          "output_type": "stream",
          "name": "stdout",
          "text": [
            "0\n"
          ]
        }
      ]
    },
    {
      "cell_type": "code",
      "source": [
        "#check for data_types of the columns\n",
        "crypto.info()"
      ],
      "metadata": {
        "colab": {
          "base_uri": "https://localhost:8080/"
        },
        "id": "-lsRzA88oFf5",
        "outputId": "00a6f7bb-2fb4-4f61-ac5f-333e51d8de6a"
      },
      "execution_count": 4,
      "outputs": [
        {
          "output_type": "stream",
          "name": "stdout",
          "text": [
            "<class 'pandas.core.frame.DataFrame'>\n",
            "RangeIndex: 53835 entries, 0 to 53834\n",
            "Data columns (total 8 columns):\n",
            " #   Column         Non-Null Count  Dtype  \n",
            "---  ------         --------------  -----  \n",
            " 0   Currency_Name  53835 non-null  object \n",
            " 1   Date           53835 non-null  object \n",
            " 2   Price          53835 non-null  float64\n",
            " 3   Open           53835 non-null  float64\n",
            " 4   High           53835 non-null  float64\n",
            " 5   Low            53835 non-null  float64\n",
            " 6   Vol.           53835 non-null  float64\n",
            " 7   Change %       53835 non-null  float64\n",
            "dtypes: float64(6), object(2)\n",
            "memory usage: 3.3+ MB\n"
          ]
        }
      ]
    },
    {
      "cell_type": "markdown",
      "source": [
        "#### **OBSERVATIONS**\n",
        "\n",
        "1. dataset has 8columns and 53835rows\n",
        "2. it has no null values\n",
        "3. it also has  no duplicates \n",
        "4. it contains mostly numerical datatype except date column and currency name which are object and date should be changed to date.\n",
        "5.We will also query the table in sql with itself and then save it In csv for easier analysis "
      ],
      "metadata": {
        "id": "-R9IloU3oPzL"
      }
    },
    {
      "cell_type": "markdown",
      "source": [
        "#5.Cleaning our crypto dataset"
      ],
      "metadata": {
        "id": "DS0TGqCapDs7"
      }
    },
    {
      "cell_type": "code",
      "source": [
        "#since the data is mostly clean we start with changing the date column from\"object\"to\"date\"\n",
        "#convert column to datetime pandas\n",
        "crypto['Date'] = pd.to_datetime(crypto['Date'])\n"
      ],
      "metadata": {
        "id": "i_8L-TcRpF1B"
      },
      "execution_count": 5,
      "outputs": []
    },
    {
      "cell_type": "code",
      "source": [
        "#Exctract month and create a dedicated column df[\"Month\"] from a \n",
        "#column in datetime format df[\"Date\"]\n",
        "crypto['Month'] = pd.DatetimeIndex(crypto['Date']).month"
      ],
      "metadata": {
        "id": "m7-aqFjppNyZ"
      },
      "execution_count": 6,
      "outputs": []
    },
    {
      "cell_type": "code",
      "source": [
        "#Exctract month and create a dedicated column df[\"year\"] from a \n",
        "#column in datetime format df[\"Date\"]\n",
        "#this helps in analysis\n",
        "crypto['year'] = pd.DatetimeIndex(crypto['Date']).year"
      ],
      "metadata": {
        "id": "mnUHbe7ApSNe"
      },
      "execution_count": 7,
      "outputs": []
    },
    {
      "cell_type": "code",
      "source": [
        "crypto.rename(columns = {'Price':'price','Currency_Name':'name','Vol.':'volume','Change %':'price_change'}, inplace = True)"
      ],
      "metadata": {
        "id": "KqiCsr_nrmEY"
      },
      "execution_count": 33,
      "outputs": []
    },
    {
      "cell_type": "code",
      "source": [
        "crypto.info()"
      ],
      "metadata": {
        "colab": {
          "base_uri": "https://localhost:8080/"
        },
        "id": "em2dcVECpWz2",
        "outputId": "82369051-234e-462e-8279-1a23b246c15d"
      },
      "execution_count": 34,
      "outputs": [
        {
          "output_type": "stream",
          "name": "stdout",
          "text": [
            "<class 'pandas.core.frame.DataFrame'>\n",
            "RangeIndex: 53835 entries, 0 to 53834\n",
            "Data columns (total 10 columns):\n",
            " #   Column        Non-Null Count  Dtype         \n",
            "---  ------        --------------  -----         \n",
            " 0   name          53835 non-null  object        \n",
            " 1   Date          53835 non-null  datetime64[ns]\n",
            " 2   price         53835 non-null  float64       \n",
            " 3   Open          53835 non-null  float64       \n",
            " 4   High          53835 non-null  float64       \n",
            " 5   Low           53835 non-null  float64       \n",
            " 6   volume        53835 non-null  float64       \n",
            " 7   price_change  53835 non-null  float64       \n",
            " 8   Month         53835 non-null  int64         \n",
            " 9   year          53835 non-null  int64         \n",
            "dtypes: datetime64[ns](1), float64(6), int64(2), object(1)\n",
            "memory usage: 4.1+ MB\n"
          ]
        }
      ]
    },
    {
      "cell_type": "markdown",
      "source": [
        "####**saving a cleaned dataset into csv**"
      ],
      "metadata": {
        "id": "4pGaLB73qGay"
      }
    },
    {
      "cell_type": "code",
      "source": [
        " crypto_2=crypto.to_csv('raw_data.csv', index=False)\n"
      ],
      "metadata": {
        "id": "70vMu4q4q33Z"
      },
      "execution_count": 35,
      "outputs": []
    },
    {
      "cell_type": "markdown",
      "source": [
        "#6.Import SQL libraries and load datasets"
      ],
      "metadata": {
        "id": "M2oYnnDRn3oQ"
      }
    },
    {
      "cell_type": "code",
      "execution_count": 37,
      "metadata": {
        "colab": {
          "base_uri": "https://localhost:8080/",
          "height": 73
        },
        "id": "u1aaAExoc5Qb",
        "outputId": "a4323ab0-b1b2-4f1d-ce13-7f70992ff0ee"
      },
      "outputs": [
        {
          "output_type": "stream",
          "name": "stdout",
          "text": [
            "The sql extension is already loaded. To reload it, use:\n",
            "  %reload_ext sql\n"
          ]
        },
        {
          "output_type": "execute_result",
          "data": {
            "text/plain": [
              "'Connected: @None'"
            ],
            "application/vnd.google.colaboratory.intrinsic+json": {
              "type": "string"
            }
          },
          "metadata": {},
          "execution_count": 37
        }
      ],
      "source": [
        "# We will first load the sql extension into our environment\n",
        "%load_ext sql\n",
        "\n",
        "# Then connect to our in memory sqlite database\n",
        "# NB: This database will cease to exist as soon as the database connection is closed. \n",
        "%sql sqlite://"
      ]
    },
    {
      "cell_type": "code",
      "source": [
        "#importimg our libraries to use\n",
        "import numpy as np\n",
        "import pandas as pd\n",
        "import seaborn as sns\n",
        "import matplotlib.pyplot as plt\n",
        "import plotly.express as px\n",
        "from datetime import datetime\n",
        "%matplotlib inline"
      ],
      "metadata": {
        "id": "7khKhhDFdvMa"
      },
      "execution_count": 38,
      "outputs": []
    },
    {
      "cell_type": "code",
      "source": [
        "# Let's load our All combined crypto dataset below\n",
        "# And drop any existing tables if any similar to the one that we will be working with\n",
        "# we add limit 5 to preview the first five entries of our csv table\n",
        "with open('raw_data.csv','r') as f:\n",
        "    crypto_2= pd.read_csv(f, index_col=0, encoding='utf-8')\n",
        "%sql DROP TABLE if EXISTS crypto_2;\n",
        "%sql PERSIST crypto_2;\n",
        "%sql SELECT * FROM crypto_2 LIMIT 5;"
      ],
      "metadata": {
        "colab": {
          "base_uri": "https://localhost:8080/",
          "height": 233
        },
        "id": "kMaKlSktd6NS",
        "outputId": "7709cc15-d58d-4063-923d-6dbf932924fd"
      },
      "execution_count": 39,
      "outputs": [
        {
          "output_type": "stream",
          "name": "stdout",
          "text": [
            " * sqlite://\n",
            "Done.\n",
            " * sqlite://\n",
            " * sqlite://\n",
            "Done.\n"
          ]
        },
        {
          "output_type": "execute_result",
          "data": {
            "text/plain": [
              "[('Aave', '2018-01-30', 0.15, 0.17, 0.17, 0.14, 530470.0, -7.95, 1, 2018),\n",
              " ('Aave', '2018-01-31', 0.14, 0.15, 0.15, 0.13, 396050.0, -11.1, 1, 2018),\n",
              " ('Aave', '2018-01-02', 0.11, 0.14, 0.14, 0.11, 987260.0, -17.46, 1, 2018),\n",
              " ('Aave', '2018-02-02', 0.1, 0.11, 0.11, 0.08, 1810000.0, -8.32, 2, 2018),\n",
              " ('Aave', '2018-03-02', 0.11, 0.1, 0.12, 0.09, 1200000.0, 6.85, 3, 2018)]"
            ],
            "text/html": [
              "<table>\n",
              "    <thead>\n",
              "        <tr>\n",
              "            <th>name</th>\n",
              "            <th>Date</th>\n",
              "            <th>price</th>\n",
              "            <th>Open</th>\n",
              "            <th>High</th>\n",
              "            <th>Low</th>\n",
              "            <th>volume</th>\n",
              "            <th>price_change</th>\n",
              "            <th>Month</th>\n",
              "            <th>year</th>\n",
              "        </tr>\n",
              "    </thead>\n",
              "    <tbody>\n",
              "        <tr>\n",
              "            <td>Aave</td>\n",
              "            <td>2018-01-30</td>\n",
              "            <td>0.15</td>\n",
              "            <td>0.17</td>\n",
              "            <td>0.17</td>\n",
              "            <td>0.14</td>\n",
              "            <td>530470.0</td>\n",
              "            <td>-7.95</td>\n",
              "            <td>1</td>\n",
              "            <td>2018</td>\n",
              "        </tr>\n",
              "        <tr>\n",
              "            <td>Aave</td>\n",
              "            <td>2018-01-31</td>\n",
              "            <td>0.14</td>\n",
              "            <td>0.15</td>\n",
              "            <td>0.15</td>\n",
              "            <td>0.13</td>\n",
              "            <td>396050.0</td>\n",
              "            <td>-11.1</td>\n",
              "            <td>1</td>\n",
              "            <td>2018</td>\n",
              "        </tr>\n",
              "        <tr>\n",
              "            <td>Aave</td>\n",
              "            <td>2018-01-02</td>\n",
              "            <td>0.11</td>\n",
              "            <td>0.14</td>\n",
              "            <td>0.14</td>\n",
              "            <td>0.11</td>\n",
              "            <td>987260.0</td>\n",
              "            <td>-17.46</td>\n",
              "            <td>1</td>\n",
              "            <td>2018</td>\n",
              "        </tr>\n",
              "        <tr>\n",
              "            <td>Aave</td>\n",
              "            <td>2018-02-02</td>\n",
              "            <td>0.1</td>\n",
              "            <td>0.11</td>\n",
              "            <td>0.11</td>\n",
              "            <td>0.08</td>\n",
              "            <td>1810000.0</td>\n",
              "            <td>-8.32</td>\n",
              "            <td>2</td>\n",
              "            <td>2018</td>\n",
              "        </tr>\n",
              "        <tr>\n",
              "            <td>Aave</td>\n",
              "            <td>2018-03-02</td>\n",
              "            <td>0.11</td>\n",
              "            <td>0.1</td>\n",
              "            <td>0.12</td>\n",
              "            <td>0.09</td>\n",
              "            <td>1200000.0</td>\n",
              "            <td>6.85</td>\n",
              "            <td>3</td>\n",
              "            <td>2018</td>\n",
              "        </tr>\n",
              "    </tbody>\n",
              "</table>"
            ]
          },
          "metadata": {},
          "execution_count": 39
        }
      ]
    },
    {
      "cell_type": "markdown",
      "source": [
        "#7.Sql Queries"
      ],
      "metadata": {
        "id": "6W8Z085wuuwu"
      }
    },
    {
      "cell_type": "markdown",
      "source": [
        "###### **a**).What's the hottest coin Right now?\n",
        "What is the hottest cryptocurrency?to answer this we can simply check which coins have the highest market cap currently.Where we already know market cap stands for current demand for a specific coin or what has been held in worth of investment of a specific coin.\n",
        "\n",
        "So,We arrange them from the Largest cryptocurrencies by market cap"
      ],
      "metadata": {
        "id": "nt2qXbO5r-bs"
      }
    },
    {
      "cell_type": "code",
      "source": [
        "%%sql\n",
        "\n",
        "SELECT name,volume AS market_cap,year\n",
        "\n",
        "FROM crypto_2\n",
        "\n",
        "WHERE year='2021'\n",
        "\n",
        "GROUP BY name\n",
        "\n",
        "ORDER BY market_cap DESC\n",
        "\n",
        "LIMIT 10;\n"
      ],
      "metadata": {
        "colab": {
          "base_uri": "https://localhost:8080/",
          "height": 280
        },
        "id": "b4Tj6WPg7P74",
        "outputId": "eff336cb-4229-4970-8d35-f46d8feab6c0"
      },
      "execution_count": 14,
      "outputs": [
        {
          "output_type": "stream",
          "name": "stdout",
          "text": [
            " * sqlite://\n",
            "Done.\n"
          ]
        },
        {
          "output_type": "execute_result",
          "data": {
            "text/plain": [
              "[('SHIBA_INU', 158456000000.0, 2021),\n",
              " ('BitTorrent', 46830000000.0, 2021),\n",
              " ('Binance_USD', 2330000000.0, 2021),\n",
              " ('Dogecoin', 2110000000.0, 2021),\n",
              " ('Cardano', 679650000.0, 2021),\n",
              " ('Tron', 443000000.0, 2021),\n",
              " ('Stellar', 400200000.0, 2021),\n",
              " ('XPR', 298000000.0, 2021),\n",
              " ('VeChain', 138000000.0, 2021),\n",
              " ('Polygon', 123100000.0, 2021)]"
            ],
            "text/html": [
              "<table>\n",
              "    <thead>\n",
              "        <tr>\n",
              "            <th>name</th>\n",
              "            <th>market_cap</th>\n",
              "            <th>year</th>\n",
              "        </tr>\n",
              "    </thead>\n",
              "    <tbody>\n",
              "        <tr>\n",
              "            <td>SHIBA_INU</td>\n",
              "            <td>158456000000.0</td>\n",
              "            <td>2021</td>\n",
              "        </tr>\n",
              "        <tr>\n",
              "            <td>BitTorrent</td>\n",
              "            <td>46830000000.0</td>\n",
              "            <td>2021</td>\n",
              "        </tr>\n",
              "        <tr>\n",
              "            <td>Binance_USD</td>\n",
              "            <td>2330000000.0</td>\n",
              "            <td>2021</td>\n",
              "        </tr>\n",
              "        <tr>\n",
              "            <td>Dogecoin</td>\n",
              "            <td>2110000000.0</td>\n",
              "            <td>2021</td>\n",
              "        </tr>\n",
              "        <tr>\n",
              "            <td>Cardano</td>\n",
              "            <td>679650000.0</td>\n",
              "            <td>2021</td>\n",
              "        </tr>\n",
              "        <tr>\n",
              "            <td>Tron</td>\n",
              "            <td>443000000.0</td>\n",
              "            <td>2021</td>\n",
              "        </tr>\n",
              "        <tr>\n",
              "            <td>Stellar</td>\n",
              "            <td>400200000.0</td>\n",
              "            <td>2021</td>\n",
              "        </tr>\n",
              "        <tr>\n",
              "            <td>XPR</td>\n",
              "            <td>298000000.0</td>\n",
              "            <td>2021</td>\n",
              "        </tr>\n",
              "        <tr>\n",
              "            <td>VeChain</td>\n",
              "            <td>138000000.0</td>\n",
              "            <td>2021</td>\n",
              "        </tr>\n",
              "        <tr>\n",
              "            <td>Polygon</td>\n",
              "            <td>123100000.0</td>\n",
              "            <td>2021</td>\n",
              "        </tr>\n",
              "    </tbody>\n",
              "</table>"
            ]
          },
          "metadata": {},
          "execution_count": 14
        }
      ]
    },
    {
      "cell_type": "markdown",
      "source": [
        "###### **b**)What was the hottest coin 5 YEARS AGO? \n",
        "5 years ago is 2021 minus 5 is 2016 so we will use the above code and just interchange just the year"
      ],
      "metadata": {
        "id": "zU6XKBs7zBp0"
      }
    },
    {
      "cell_type": "code",
      "source": [
        "%%sql\n",
        "\n",
        "SELECT name,volume AS market_cap,year\n",
        "\n",
        "FROM crypto_2\n",
        "\n",
        "WHERE year='2016'\n",
        "\n",
        "GROUP BY name\n",
        "\n",
        "ORDER BY market_cap DESC\n",
        "\n",
        "LIMIT 10;\n"
      ],
      "metadata": {
        "colab": {
          "base_uri": "https://localhost:8080/",
          "height": 197
        },
        "id": "HqH82iH0zS4T",
        "outputId": "12d37c1e-5c82-4487-d288-da3bcc3b99f7"
      },
      "execution_count": 15,
      "outputs": [
        {
          "output_type": "stream",
          "name": "stdout",
          "text": [
            " * sqlite://\n",
            "Done.\n"
          ]
        },
        {
          "output_type": "execute_result",
          "data": {
            "text/plain": [
              "[('Ethereum_Classic', 265160.0, 2016),\n",
              " ('Ethereum', 200240.0, 2016),\n",
              " ('Monero', 32800.0, 2016),\n",
              " ('Bitcoin', 27560.0, 2016),\n",
              " ('Litecoin', 6020.0, 2016),\n",
              " ('XPR', 0.0, 2016)]"
            ],
            "text/html": [
              "<table>\n",
              "    <thead>\n",
              "        <tr>\n",
              "            <th>name</th>\n",
              "            <th>market_cap</th>\n",
              "            <th>year</th>\n",
              "        </tr>\n",
              "    </thead>\n",
              "    <tbody>\n",
              "        <tr>\n",
              "            <td>Ethereum_Classic</td>\n",
              "            <td>265160.0</td>\n",
              "            <td>2016</td>\n",
              "        </tr>\n",
              "        <tr>\n",
              "            <td>Ethereum</td>\n",
              "            <td>200240.0</td>\n",
              "            <td>2016</td>\n",
              "        </tr>\n",
              "        <tr>\n",
              "            <td>Monero</td>\n",
              "            <td>32800.0</td>\n",
              "            <td>2016</td>\n",
              "        </tr>\n",
              "        <tr>\n",
              "            <td>Bitcoin</td>\n",
              "            <td>27560.0</td>\n",
              "            <td>2016</td>\n",
              "        </tr>\n",
              "        <tr>\n",
              "            <td>Litecoin</td>\n",
              "            <td>6020.0</td>\n",
              "            <td>2016</td>\n",
              "        </tr>\n",
              "        <tr>\n",
              "            <td>XPR</td>\n",
              "            <td>0.0</td>\n",
              "            <td>2016</td>\n",
              "        </tr>\n",
              "    </tbody>\n",
              "</table>"
            ]
          },
          "metadata": {},
          "execution_count": 15
        }
      ]
    },
    {
      "cell_type": "markdown",
      "source": [
        "###### **c**)What is the highest price coin Right now? "
      ],
      "metadata": {
        "id": "JeCOIVhK0zId"
      }
    },
    {
      "cell_type": "code",
      "source": [
        "%%sql\n",
        "\n",
        "SELECT name,MAX(DISTINCT price),year,Month\n",
        "\n",
        "FROM crypto_2\n",
        "\n",
        "WHERE year='2021' AND Month='12';"
      ],
      "metadata": {
        "colab": {
          "base_uri": "https://localhost:8080/",
          "height": 95
        },
        "id": "yGk62MKB7pPN",
        "outputId": "982b26ba-c06f-4db2-ed3f-d948c3a6f0ae"
      },
      "execution_count": 16,
      "outputs": [
        {
          "output_type": "stream",
          "name": "stdout",
          "text": [
            " * sqlite://\n",
            "Done.\n"
          ]
        },
        {
          "output_type": "execute_result",
          "data": {
            "text/plain": [
              "[('WBTC', 59883.23, 2021, 12)]"
            ],
            "text/html": [
              "<table>\n",
              "    <thead>\n",
              "        <tr>\n",
              "            <th>name</th>\n",
              "            <th>MAX(DISTINCT price)</th>\n",
              "            <th>year</th>\n",
              "            <th>Month</th>\n",
              "        </tr>\n",
              "    </thead>\n",
              "    <tbody>\n",
              "        <tr>\n",
              "            <td>WBTC</td>\n",
              "            <td>59883.23</td>\n",
              "            <td>2021</td>\n",
              "            <td>12</td>\n",
              "        </tr>\n",
              "    </tbody>\n",
              "</table>"
            ]
          },
          "metadata": {},
          "execution_count": 16
        }
      ]
    },
    {
      "cell_type": "markdown",
      "source": [
        "   ###### **d**)What is the lowest price coin Right now?"
      ],
      "metadata": {
        "id": "F322i7LJ111Q"
      }
    },
    {
      "cell_type": "code",
      "source": [
        "%%sql\n",
        "\n",
        "SELECT name,MIN(DISTINCT price),year,Month\n",
        "\n",
        "FROM crypto_2\n",
        "\n",
        "WHERE year='2021' AND Month='12';"
      ],
      "metadata": {
        "colab": {
          "base_uri": "https://localhost:8080/",
          "height": 95
        },
        "id": "abDfCzfZ2DnT",
        "outputId": "fc6017df-1989-4c90-ed05-c72c3125b00c"
      },
      "execution_count": 17,
      "outputs": [
        {
          "output_type": "stream",
          "name": "stdout",
          "text": [
            " * sqlite://\n",
            "Done.\n"
          ]
        },
        {
          "output_type": "execute_result",
          "data": {
            "text/plain": [
              "[('SHIBA_INU', 6.26e-06, 2021, 12)]"
            ],
            "text/html": [
              "<table>\n",
              "    <thead>\n",
              "        <tr>\n",
              "            <th>name</th>\n",
              "            <th>MIN(DISTINCT price)</th>\n",
              "            <th>year</th>\n",
              "            <th>Month</th>\n",
              "        </tr>\n",
              "    </thead>\n",
              "    <tbody>\n",
              "        <tr>\n",
              "            <td>SHIBA_INU</td>\n",
              "            <td>6.26e-06</td>\n",
              "            <td>2021</td>\n",
              "            <td>12</td>\n",
              "        </tr>\n",
              "    </tbody>\n",
              "</table>"
            ]
          },
          "metadata": {},
          "execution_count": 17
        }
      ]
    },
    {
      "cell_type": "markdown",
      "source": [
        " ###### **e**)What is the Highest market value from 2020?"
      ],
      "metadata": {
        "id": "IhduJj3B2nCn"
      }
    },
    {
      "cell_type": "code",
      "source": [
        "%%sql\n",
        "\n",
        "SELECT name,MAX(DISTINCT volume),year\n",
        "\n",
        "FROM crypto_2\n",
        "\n",
        "WHERE year='2020';"
      ],
      "metadata": {
        "colab": {
          "base_uri": "https://localhost:8080/",
          "height": 95
        },
        "id": "fn7--d8h23xY",
        "outputId": "811d45ac-4ab3-42ca-9017-e483a8809501"
      },
      "execution_count": 18,
      "outputs": [
        {
          "output_type": "stream",
          "name": "stdout",
          "text": [
            " * sqlite://\n",
            "Done.\n"
          ]
        },
        {
          "output_type": "execute_result",
          "data": {
            "text/plain": [
              "[('BitTorrent', 555490000000.0, 2020)]"
            ],
            "text/html": [
              "<table>\n",
              "    <thead>\n",
              "        <tr>\n",
              "            <th>name</th>\n",
              "            <th>MAX(DISTINCT volume)</th>\n",
              "            <th>year</th>\n",
              "        </tr>\n",
              "    </thead>\n",
              "    <tbody>\n",
              "        <tr>\n",
              "            <td>BitTorrent</td>\n",
              "            <td>555490000000.0</td>\n",
              "            <td>2020</td>\n",
              "        </tr>\n",
              "    </tbody>\n",
              "</table>"
            ]
          },
          "metadata": {},
          "execution_count": 18
        }
      ]
    },
    {
      "cell_type": "markdown",
      "source": [
        " ###### **f**)What is the Lowest market value from 2020?"
      ],
      "metadata": {
        "id": "W2kS_Q533M7c"
      }
    },
    {
      "cell_type": "code",
      "source": [
        "%%sql\n",
        "\n",
        "SELECT name,MIN(DISTINCT volume),year\n",
        "\n",
        "FROM crypto_2\n",
        "\n",
        "WHERE year='2020';"
      ],
      "metadata": {
        "colab": {
          "base_uri": "https://localhost:8080/",
          "height": 95
        },
        "id": "SWVeCH643XL6",
        "outputId": "d67d29bc-105c-4c04-d925-653d9ebe82f0"
      },
      "execution_count": 19,
      "outputs": [
        {
          "output_type": "stream",
          "name": "stdout",
          "text": [
            " * sqlite://\n",
            "Done.\n"
          ]
        },
        {
          "output_type": "execute_result",
          "data": {
            "text/plain": [
              "[('Aave', 0.0, 2020)]"
            ],
            "text/html": [
              "<table>\n",
              "    <thead>\n",
              "        <tr>\n",
              "            <th>name</th>\n",
              "            <th>MIN(DISTINCT volume)</th>\n",
              "            <th>year</th>\n",
              "        </tr>\n",
              "    </thead>\n",
              "    <tbody>\n",
              "        <tr>\n",
              "            <td>Aave</td>\n",
              "            <td>0.0</td>\n",
              "            <td>2020</td>\n",
              "        </tr>\n",
              "    </tbody>\n",
              "</table>"
            ]
          },
          "metadata": {},
          "execution_count": 19
        }
      ]
    },
    {
      "cell_type": "markdown",
      "source": [
        " ###### **g**)Which coin has the Highest price change Right now?"
      ],
      "metadata": {
        "id": "J9ip_tudWruS"
      }
    },
    {
      "cell_type": "code",
      "source": [
        "%%sql\n",
        "SELECT name,\n",
        "MAX(price_change),\n",
        "year\n",
        "FROM crypto_2\n",
        "GROUP BY name\n",
        "ORDER BY year DESC\n",
        "LIMIT 10;"
      ],
      "metadata": {
        "colab": {
          "base_uri": "https://localhost:8080/",
          "height": 280
        },
        "id": "oevPWftvlo8C",
        "outputId": "b208600e-dc41-4515-820d-3e538c577ada"
      },
      "execution_count": 40,
      "outputs": [
        {
          "output_type": "stream",
          "name": "stdout",
          "text": [
            " * sqlite://\n",
            "Done.\n"
          ]
        },
        {
          "output_type": "execute_result",
          "data": {
            "text/plain": [
              "[('Avalanche', 74.32, 2021),\n",
              " ('Axie_Infinity', 71.77, 2021),\n",
              " ('Binance_Coin', 69.99, 2021),\n",
              " ('Binance_USD', 0.16, 2021),\n",
              " ('BitTorrent', 113.47, 2021),\n",
              " ('Bitcoin_BEP2', 40.24, 2021),\n",
              " ('Cosmos', 38.69, 2021),\n",
              " ('FTX_Token', 31.49, 2021),\n",
              " ('GRT', 59.52, 2021),\n",
              " ('ICP', 41.6, 2021)]"
            ],
            "text/html": [
              "<table>\n",
              "    <thead>\n",
              "        <tr>\n",
              "            <th>name</th>\n",
              "            <th>MAX(price_change)</th>\n",
              "            <th>year</th>\n",
              "        </tr>\n",
              "    </thead>\n",
              "    <tbody>\n",
              "        <tr>\n",
              "            <td>Avalanche</td>\n",
              "            <td>74.32</td>\n",
              "            <td>2021</td>\n",
              "        </tr>\n",
              "        <tr>\n",
              "            <td>Axie_Infinity</td>\n",
              "            <td>71.77</td>\n",
              "            <td>2021</td>\n",
              "        </tr>\n",
              "        <tr>\n",
              "            <td>Binance_Coin</td>\n",
              "            <td>69.99</td>\n",
              "            <td>2021</td>\n",
              "        </tr>\n",
              "        <tr>\n",
              "            <td>Binance_USD</td>\n",
              "            <td>0.16</td>\n",
              "            <td>2021</td>\n",
              "        </tr>\n",
              "        <tr>\n",
              "            <td>BitTorrent</td>\n",
              "            <td>113.47</td>\n",
              "            <td>2021</td>\n",
              "        </tr>\n",
              "        <tr>\n",
              "            <td>Bitcoin_BEP2</td>\n",
              "            <td>40.24</td>\n",
              "            <td>2021</td>\n",
              "        </tr>\n",
              "        <tr>\n",
              "            <td>Cosmos</td>\n",
              "            <td>38.69</td>\n",
              "            <td>2021</td>\n",
              "        </tr>\n",
              "        <tr>\n",
              "            <td>FTX_Token</td>\n",
              "            <td>31.49</td>\n",
              "            <td>2021</td>\n",
              "        </tr>\n",
              "        <tr>\n",
              "            <td>GRT</td>\n",
              "            <td>59.52</td>\n",
              "            <td>2021</td>\n",
              "        </tr>\n",
              "        <tr>\n",
              "            <td>ICP</td>\n",
              "            <td>41.6</td>\n",
              "            <td>2021</td>\n",
              "        </tr>\n",
              "    </tbody>\n",
              "</table>"
            ]
          },
          "metadata": {},
          "execution_count": 40
        }
      ]
    },
    {
      "cell_type": "markdown",
      "source": [
        " ###### **h**)Which coin has the lowest price change since 2020?"
      ],
      "metadata": {
        "id": "mvsFygcOZLFR"
      }
    },
    {
      "cell_type": "code",
      "source": [
        "%%sql\n",
        "SELECT name,\n",
        "        MIN(price_change),\n",
        "        year\n",
        "FROM crypto_2\n",
        "WHERE year>=2020 \n",
        "GROUP BY name\n",
        "ORDER BY price_change DESC\n",
        "LIMIT 5;"
      ],
      "metadata": {
        "colab": {
          "base_uri": "https://localhost:8080/",
          "height": 177
        },
        "id": "ou6VmsNrtlqc",
        "outputId": "6a18c53e-b2d5-4e2d-b7a7-c5424d93a415"
      },
      "execution_count": 51,
      "outputs": [
        {
          "output_type": "stream",
          "name": "stdout",
          "text": [
            " * sqlite://\n",
            "Done.\n"
          ]
        },
        {
          "output_type": "execute_result",
          "data": {
            "text/plain": [
              "[('Binance_USD', -0.12, 2021),\n",
              " ('USD_Coin', -0.55, 2020),\n",
              " ('Tether', -0.68, 2020),\n",
              " ('Dai', -5.72, 2020),\n",
              " ('Axie_Infinity', -11.15, 2021)]"
            ],
            "text/html": [
              "<table>\n",
              "    <thead>\n",
              "        <tr>\n",
              "            <th>name</th>\n",
              "            <th>MIN(price_change)</th>\n",
              "            <th>year</th>\n",
              "        </tr>\n",
              "    </thead>\n",
              "    <tbody>\n",
              "        <tr>\n",
              "            <td>Binance_USD</td>\n",
              "            <td>-0.12</td>\n",
              "            <td>2021</td>\n",
              "        </tr>\n",
              "        <tr>\n",
              "            <td>USD_Coin</td>\n",
              "            <td>-0.55</td>\n",
              "            <td>2020</td>\n",
              "        </tr>\n",
              "        <tr>\n",
              "            <td>Tether</td>\n",
              "            <td>-0.68</td>\n",
              "            <td>2020</td>\n",
              "        </tr>\n",
              "        <tr>\n",
              "            <td>Dai</td>\n",
              "            <td>-5.72</td>\n",
              "            <td>2020</td>\n",
              "        </tr>\n",
              "        <tr>\n",
              "            <td>Axie_Infinity</td>\n",
              "            <td>-11.15</td>\n",
              "            <td>2021</td>\n",
              "        </tr>\n",
              "    </tbody>\n",
              "</table>"
            ]
          },
          "metadata": {},
          "execution_count": 51
        }
      ]
    },
    {
      "cell_type": "markdown",
      "source": [
        " ###### **i**)whats the volume history of the highest coin Right now?\n",
        " We had already queried the highest coins in 2021 we now get the coin with highest price since inception to now and how its performance has been\n"
      ],
      "metadata": {
        "id": "XJbaJPw7cihM"
      }
    },
    {
      "cell_type": "code",
      "source": [
        "%%sql\n",
        "SELECT name,(price),year,month,volume\n",
        "FROM crypto_2\n",
        "WHERE name='WBTC' AND year>'2009'\n",
        "GROUP BY month\n",
        "ORDER BY year DESC;\n"
      ],
      "metadata": {
        "colab": {
          "base_uri": "https://localhost:8080/",
          "height": 321
        },
        "id": "YQLmDSbmcqMZ",
        "outputId": "bcab2b69-da44-44d4-d042-d33e6106b72e"
      },
      "execution_count": 60,
      "outputs": [
        {
          "output_type": "stream",
          "name": "stdout",
          "text": [
            " * sqlite://\n",
            "Done.\n"
          ]
        },
        {
          "output_type": "execute_result",
          "data": {
            "text/plain": [
              "[('WBTC', 39960.03, 2021, 1, 0.0),\n",
              " ('WBTC', 39167.65, 2021, 2, 0.0),\n",
              " ('WBTC', 38129.29, 2021, 3, 0.0),\n",
              " ('WBTC', 39795.31, 2021, 4, 0.0),\n",
              " ('WBTC', 40845.59, 2021, 5, 0.0),\n",
              " ('WBTC', 42878.85, 2021, 6, 0.0),\n",
              " ('WBTC', 44618.98, 2021, 7, 0.0),\n",
              " ('WBTC', 49176.5, 2021, 8, 0.0),\n",
              " ('WBTC', 46358.37, 2021, 9, 0.0),\n",
              " ('WBTC', 45564.92, 2021, 10, 0.0),\n",
              " ('WBTC', 45615.59, 2021, 11, 0.0),\n",
              " ('WBTC', 44396.09, 2021, 12, 0.0)]"
            ],
            "text/html": [
              "<table>\n",
              "    <thead>\n",
              "        <tr>\n",
              "            <th>name</th>\n",
              "            <th>price</th>\n",
              "            <th>year</th>\n",
              "            <th>Month</th>\n",
              "            <th>volume</th>\n",
              "        </tr>\n",
              "    </thead>\n",
              "    <tbody>\n",
              "        <tr>\n",
              "            <td>WBTC</td>\n",
              "            <td>39960.03</td>\n",
              "            <td>2021</td>\n",
              "            <td>1</td>\n",
              "            <td>0.0</td>\n",
              "        </tr>\n",
              "        <tr>\n",
              "            <td>WBTC</td>\n",
              "            <td>39167.65</td>\n",
              "            <td>2021</td>\n",
              "            <td>2</td>\n",
              "            <td>0.0</td>\n",
              "        </tr>\n",
              "        <tr>\n",
              "            <td>WBTC</td>\n",
              "            <td>38129.29</td>\n",
              "            <td>2021</td>\n",
              "            <td>3</td>\n",
              "            <td>0.0</td>\n",
              "        </tr>\n",
              "        <tr>\n",
              "            <td>WBTC</td>\n",
              "            <td>39795.31</td>\n",
              "            <td>2021</td>\n",
              "            <td>4</td>\n",
              "            <td>0.0</td>\n",
              "        </tr>\n",
              "        <tr>\n",
              "            <td>WBTC</td>\n",
              "            <td>40845.59</td>\n",
              "            <td>2021</td>\n",
              "            <td>5</td>\n",
              "            <td>0.0</td>\n",
              "        </tr>\n",
              "        <tr>\n",
              "            <td>WBTC</td>\n",
              "            <td>42878.85</td>\n",
              "            <td>2021</td>\n",
              "            <td>6</td>\n",
              "            <td>0.0</td>\n",
              "        </tr>\n",
              "        <tr>\n",
              "            <td>WBTC</td>\n",
              "            <td>44618.98</td>\n",
              "            <td>2021</td>\n",
              "            <td>7</td>\n",
              "            <td>0.0</td>\n",
              "        </tr>\n",
              "        <tr>\n",
              "            <td>WBTC</td>\n",
              "            <td>49176.5</td>\n",
              "            <td>2021</td>\n",
              "            <td>8</td>\n",
              "            <td>0.0</td>\n",
              "        </tr>\n",
              "        <tr>\n",
              "            <td>WBTC</td>\n",
              "            <td>46358.37</td>\n",
              "            <td>2021</td>\n",
              "            <td>9</td>\n",
              "            <td>0.0</td>\n",
              "        </tr>\n",
              "        <tr>\n",
              "            <td>WBTC</td>\n",
              "            <td>45564.92</td>\n",
              "            <td>2021</td>\n",
              "            <td>10</td>\n",
              "            <td>0.0</td>\n",
              "        </tr>\n",
              "        <tr>\n",
              "            <td>WBTC</td>\n",
              "            <td>45615.59</td>\n",
              "            <td>2021</td>\n",
              "            <td>11</td>\n",
              "            <td>0.0</td>\n",
              "        </tr>\n",
              "        <tr>\n",
              "            <td>WBTC</td>\n",
              "            <td>44396.09</td>\n",
              "            <td>2021</td>\n",
              "            <td>12</td>\n",
              "            <td>0.0</td>\n",
              "        </tr>\n",
              "    </tbody>\n",
              "</table>"
            ]
          },
          "metadata": {},
          "execution_count": 60
        }
      ]
    },
    {
      "cell_type": "markdown",
      "source": [
        " ###### **j**)Whats the volume history of the lowest coin Right now?"
      ],
      "metadata": {
        "id": "5mE60_Jve3_J"
      }
    },
    {
      "cell_type": "code",
      "source": [
        "%%sql\n",
        "SELECT name,price,year,month,volume\n",
        "FROM crypto_2\n",
        "WHERE name='SHIBA_INU' AND year>'2016'\n",
        "GROUP BY month\n",
        "ORDER BY year DESC;"
      ],
      "metadata": {
        "colab": {
          "base_uri": "https://localhost:8080/",
          "height": 321
        },
        "id": "kOyvxH6nfF5J",
        "outputId": "fca0f174-89e2-4b84-885c-19783d3b03a5"
      },
      "execution_count": 74,
      "outputs": [
        {
          "output_type": "stream",
          "name": "stdout",
          "text": [
            " * sqlite://\n",
            "Done.\n"
          ]
        },
        {
          "output_type": "execute_result",
          "data": {
            "text/plain": [
              "[('SHIBA_INU', 6.3e-06, 2021, 1, 268068000000.0),\n",
              " ('SHIBA_INU', 6.34e-06, 2021, 2, 119233000000.0),\n",
              " ('SHIBA_INU', 6.18e-06, 2021, 3, 140348000000.0),\n",
              " ('SHIBA_INU', 6.23e-06, 2021, 4, 167019000000.0),\n",
              " ('SHIBA_INU', 6.22e-06, 2021, 5, 152338000000.0),\n",
              " ('SHIBA_INU', 6.31e-06, 2021, 6, 290817000000.0),\n",
              " ('SHIBA_INU', 7.8e-06, 2021, 7, 1027320000000.0),\n",
              " ('SHIBA_INU', 8.05e-06, 2021, 8, 158456000000.0),\n",
              " ('SHIBA_INU', 7.63e-06, 2021, 9, 534651000000.0),\n",
              " ('SHIBA_INU', 7.58e-06, 2021, 10, 298376000000.0),\n",
              " ('SHIBA_INU', 7.78e-06, 2021, 11, 510688000000.0),\n",
              " ('SHIBA_INU', 7.64e-06, 2021, 12, 393653000000.0)]"
            ],
            "text/html": [
              "<table>\n",
              "    <thead>\n",
              "        <tr>\n",
              "            <th>name</th>\n",
              "            <th>price</th>\n",
              "            <th>year</th>\n",
              "            <th>Month</th>\n",
              "            <th>volume</th>\n",
              "        </tr>\n",
              "    </thead>\n",
              "    <tbody>\n",
              "        <tr>\n",
              "            <td>SHIBA_INU</td>\n",
              "            <td>6.3e-06</td>\n",
              "            <td>2021</td>\n",
              "            <td>1</td>\n",
              "            <td>268068000000.0</td>\n",
              "        </tr>\n",
              "        <tr>\n",
              "            <td>SHIBA_INU</td>\n",
              "            <td>6.34e-06</td>\n",
              "            <td>2021</td>\n",
              "            <td>2</td>\n",
              "            <td>119233000000.0</td>\n",
              "        </tr>\n",
              "        <tr>\n",
              "            <td>SHIBA_INU</td>\n",
              "            <td>6.18e-06</td>\n",
              "            <td>2021</td>\n",
              "            <td>3</td>\n",
              "            <td>140348000000.0</td>\n",
              "        </tr>\n",
              "        <tr>\n",
              "            <td>SHIBA_INU</td>\n",
              "            <td>6.23e-06</td>\n",
              "            <td>2021</td>\n",
              "            <td>4</td>\n",
              "            <td>167019000000.0</td>\n",
              "        </tr>\n",
              "        <tr>\n",
              "            <td>SHIBA_INU</td>\n",
              "            <td>6.22e-06</td>\n",
              "            <td>2021</td>\n",
              "            <td>5</td>\n",
              "            <td>152338000000.0</td>\n",
              "        </tr>\n",
              "        <tr>\n",
              "            <td>SHIBA_INU</td>\n",
              "            <td>6.31e-06</td>\n",
              "            <td>2021</td>\n",
              "            <td>6</td>\n",
              "            <td>290817000000.0</td>\n",
              "        </tr>\n",
              "        <tr>\n",
              "            <td>SHIBA_INU</td>\n",
              "            <td>7.8e-06</td>\n",
              "            <td>2021</td>\n",
              "            <td>7</td>\n",
              "            <td>1027320000000.0</td>\n",
              "        </tr>\n",
              "        <tr>\n",
              "            <td>SHIBA_INU</td>\n",
              "            <td>8.05e-06</td>\n",
              "            <td>2021</td>\n",
              "            <td>8</td>\n",
              "            <td>158456000000.0</td>\n",
              "        </tr>\n",
              "        <tr>\n",
              "            <td>SHIBA_INU</td>\n",
              "            <td>7.63e-06</td>\n",
              "            <td>2021</td>\n",
              "            <td>9</td>\n",
              "            <td>534651000000.0</td>\n",
              "        </tr>\n",
              "        <tr>\n",
              "            <td>SHIBA_INU</td>\n",
              "            <td>7.58e-06</td>\n",
              "            <td>2021</td>\n",
              "            <td>10</td>\n",
              "            <td>298376000000.0</td>\n",
              "        </tr>\n",
              "        <tr>\n",
              "            <td>SHIBA_INU</td>\n",
              "            <td>7.78e-06</td>\n",
              "            <td>2021</td>\n",
              "            <td>11</td>\n",
              "            <td>510688000000.0</td>\n",
              "        </tr>\n",
              "        <tr>\n",
              "            <td>SHIBA_INU</td>\n",
              "            <td>7.64e-06</td>\n",
              "            <td>2021</td>\n",
              "            <td>12</td>\n",
              "            <td>393653000000.0</td>\n",
              "        </tr>\n",
              "    </tbody>\n",
              "</table>"
            ]
          },
          "metadata": {},
          "execution_count": 74
        }
      ]
    }
  ]
}